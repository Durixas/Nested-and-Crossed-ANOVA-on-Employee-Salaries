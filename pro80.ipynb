{
 "cells": [
  {
   "cell_type": "code",
   "execution_count": 1,
   "id": "bddd3ac0-47bd-4c2d-9bd8-5a3eea3e8ba9",
   "metadata": {
    "tags": []
   },
   "outputs": [],
   "source": [
    "import numpy as np\n",
    "import pandas as pd\n",
    "import matplotlib.pyplot as plt\n",
    "import seaborn as sns\n",
    "import scipy.stats as stats\n",
    "import statsmodels.api as sm\n",
    "from statsmodels.formula.api import ols\n",
    "import pingouin as pg\n",
    "import string\n",
    "\n",
    "import warnings\n",
    "warnings.filterwarnings('ignore', category=FutureWarning)"
   ]
  },
  {
   "cell_type": "markdown",
   "id": "fcce06a5-9fcb-41b4-84c7-a34334a73d35",
   "metadata": {},
   "source": [
    "# Data Preprocessing"
   ]
  },
  {
   "cell_type": "code",
   "execution_count": 2,
   "id": "537f970f-c907-416b-896d-b59ac1c8d1a2",
   "metadata": {
    "tags": []
   },
   "outputs": [
    {
     "data": {
      "text/html": [
       "<div>\n",
       "<style scoped>\n",
       "    .dataframe tbody tr th:only-of-type {\n",
       "        vertical-align: middle;\n",
       "    }\n",
       "\n",
       "    .dataframe tbody tr th {\n",
       "        vertical-align: top;\n",
       "    }\n",
       "\n",
       "    .dataframe thead th {\n",
       "        text-align: right;\n",
       "    }\n",
       "</style>\n",
       "<table border=\"1\" class=\"dataframe\">\n",
       "  <thead>\n",
       "    <tr style=\"text-align: right;\">\n",
       "      <th></th>\n",
       "      <th>Department</th>\n",
       "      <th>Department_Name</th>\n",
       "      <th>Division</th>\n",
       "      <th>Gender</th>\n",
       "      <th>Base_Salary</th>\n",
       "      <th>Overtime_Pay</th>\n",
       "      <th>Longevity_Pay</th>\n",
       "    </tr>\n",
       "  </thead>\n",
       "  <tbody>\n",
       "    <tr>\n",
       "      <th>0</th>\n",
       "      <td>ABS</td>\n",
       "      <td>Alcohol Beverage Services</td>\n",
       "      <td>ABS 85 Administration</td>\n",
       "      <td>M</td>\n",
       "      <td>175873.0000</td>\n",
       "      <td>0.00</td>\n",
       "      <td>0.00</td>\n",
       "    </tr>\n",
       "    <tr>\n",
       "      <th>1</th>\n",
       "      <td>ABS</td>\n",
       "      <td>Alcohol Beverage Services</td>\n",
       "      <td>ABS 85 Administration</td>\n",
       "      <td>M</td>\n",
       "      <td>145613.3600</td>\n",
       "      <td>0.00</td>\n",
       "      <td>0.00</td>\n",
       "    </tr>\n",
       "    <tr>\n",
       "      <th>2</th>\n",
       "      <td>ABS</td>\n",
       "      <td>Alcohol Beverage Services</td>\n",
       "      <td>ABS 85 Administration</td>\n",
       "      <td>F</td>\n",
       "      <td>136970.0000</td>\n",
       "      <td>0.00</td>\n",
       "      <td>0.00</td>\n",
       "    </tr>\n",
       "    <tr>\n",
       "      <th>3</th>\n",
       "      <td>ABS</td>\n",
       "      <td>Alcohol Beverage Services</td>\n",
       "      <td>ABS 85 Administrative Services</td>\n",
       "      <td>F</td>\n",
       "      <td>89432.6940</td>\n",
       "      <td>0.00</td>\n",
       "      <td>2490.00</td>\n",
       "    </tr>\n",
       "    <tr>\n",
       "      <th>4</th>\n",
       "      <td>ABS</td>\n",
       "      <td>Alcohol Beverage Services</td>\n",
       "      <td>ABS 85 Administrative Services</td>\n",
       "      <td>F</td>\n",
       "      <td>78947.0000</td>\n",
       "      <td>456.68</td>\n",
       "      <td>6257.70</td>\n",
       "    </tr>\n",
       "    <tr>\n",
       "      <th>...</th>\n",
       "      <td>...</td>\n",
       "      <td>...</td>\n",
       "      <td>...</td>\n",
       "      <td>...</td>\n",
       "      <td>...</td>\n",
       "      <td>...</td>\n",
       "      <td>...</td>\n",
       "    </tr>\n",
       "    <tr>\n",
       "      <th>10286</th>\n",
       "      <td>TBS</td>\n",
       "      <td>Department of Technology and Enterprise Busine...</td>\n",
       "      <td>TBS 34 OSP Low Code Governance and Administration</td>\n",
       "      <td>M</td>\n",
       "      <td>134500.0000</td>\n",
       "      <td>0.00</td>\n",
       "      <td>0.00</td>\n",
       "    </tr>\n",
       "    <tr>\n",
       "      <th>10287</th>\n",
       "      <td>ZAH</td>\n",
       "      <td>Office of Zoning and Administrative Hearings</td>\n",
       "      <td>ZAH 05 Director</td>\n",
       "      <td>F</td>\n",
       "      <td>215032.1000</td>\n",
       "      <td>0.00</td>\n",
       "      <td>0.00</td>\n",
       "    </tr>\n",
       "    <tr>\n",
       "      <th>10288</th>\n",
       "      <td>ZAH</td>\n",
       "      <td>Office of Zoning and Administrative Hearings</td>\n",
       "      <td>ZAH 05 Office of Zoning and Administrative Hea...</td>\n",
       "      <td>F</td>\n",
       "      <td>84365.5529</td>\n",
       "      <td>0.00</td>\n",
       "      <td>0.00</td>\n",
       "    </tr>\n",
       "    <tr>\n",
       "      <th>10289</th>\n",
       "      <td>ZAH</td>\n",
       "      <td>Office of Zoning and Administrative Hearings</td>\n",
       "      <td>ZAH 05 Zoning and Administrative Hearings</td>\n",
       "      <td>F</td>\n",
       "      <td>98228.0000</td>\n",
       "      <td>0.00</td>\n",
       "      <td>1596.27</td>\n",
       "    </tr>\n",
       "    <tr>\n",
       "      <th>10290</th>\n",
       "      <td>ZAH</td>\n",
       "      <td>Office of Zoning and Administrative Hearings</td>\n",
       "      <td>ZAH 05 Zoning and Administrative Hearings</td>\n",
       "      <td>F</td>\n",
       "      <td>177976.3100</td>\n",
       "      <td>0.00</td>\n",
       "      <td>0.00</td>\n",
       "    </tr>\n",
       "  </tbody>\n",
       "</table>\n",
       "<p>10291 rows × 7 columns</p>\n",
       "</div>"
      ],
      "text/plain": [
       "      Department                                    Department_Name  \\\n",
       "0            ABS                          Alcohol Beverage Services   \n",
       "1            ABS                          Alcohol Beverage Services   \n",
       "2            ABS                          Alcohol Beverage Services   \n",
       "3            ABS                          Alcohol Beverage Services   \n",
       "4            ABS                          Alcohol Beverage Services   \n",
       "...          ...                                                ...   \n",
       "10286        TBS  Department of Technology and Enterprise Busine...   \n",
       "10287        ZAH       Office of Zoning and Administrative Hearings   \n",
       "10288        ZAH       Office of Zoning and Administrative Hearings   \n",
       "10289        ZAH       Office of Zoning and Administrative Hearings   \n",
       "10290        ZAH       Office of Zoning and Administrative Hearings   \n",
       "\n",
       "                                                Division Gender  Base_Salary  \\\n",
       "0                                  ABS 85 Administration      M  175873.0000   \n",
       "1                                  ABS 85 Administration      M  145613.3600   \n",
       "2                                  ABS 85 Administration      F  136970.0000   \n",
       "3                         ABS 85 Administrative Services      F   89432.6940   \n",
       "4                         ABS 85 Administrative Services      F   78947.0000   \n",
       "...                                                  ...    ...          ...   \n",
       "10286  TBS 34 OSP Low Code Governance and Administration      M  134500.0000   \n",
       "10287                                    ZAH 05 Director      F  215032.1000   \n",
       "10288  ZAH 05 Office of Zoning and Administrative Hea...      F   84365.5529   \n",
       "10289          ZAH 05 Zoning and Administrative Hearings      F   98228.0000   \n",
       "10290          ZAH 05 Zoning and Administrative Hearings      F  177976.3100   \n",
       "\n",
       "       Overtime_Pay  Longevity_Pay  \n",
       "0              0.00           0.00  \n",
       "1              0.00           0.00  \n",
       "2              0.00           0.00  \n",
       "3              0.00        2490.00  \n",
       "4            456.68        6257.70  \n",
       "...             ...            ...  \n",
       "10286          0.00           0.00  \n",
       "10287          0.00           0.00  \n",
       "10288          0.00           0.00  \n",
       "10289          0.00        1596.27  \n",
       "10290          0.00           0.00  \n",
       "\n",
       "[10291 rows x 7 columns]"
      ]
     },
     "execution_count": 2,
     "metadata": {},
     "output_type": "execute_result"
    }
   ],
   "source": [
    "data = pd.read_csv('Employee_Salaries_-_2023.csv')\n",
    "data = data.iloc[:,:7]\n",
    "data"
   ]
  },
  {
   "cell_type": "code",
   "execution_count": 3,
   "id": "06cb8d8a-24be-46a0-a749-ff6dce4b7ac8",
   "metadata": {
    "tags": []
   },
   "outputs": [
    {
     "data": {
      "text/plain": [
       "array(['Alcohol Beverage Services', 'Board of Appeals Department',\n",
       "       'Board of Elections', \"County Attorney's Office\", 'County Council',\n",
       "       'Community Engagement Cluster', 'Offices of the County Executive',\n",
       "       'Correction and Rehabilitation',\n",
       "       'Community Use of Public Facilities',\n",
       "       'Department of Environmental Protection',\n",
       "       'Department of General Services',\n",
       "       'Office of Emergency Management and Homeland Security',\n",
       "       'Department of Transportation',\n",
       "       'Department of Permitting Services', 'Ethics Commission',\n",
       "       'Department of Finance', 'Fire and Rescue Services',\n",
       "       'Department of Housing and Community Affairs',\n",
       "       'Department of Health and Human Services',\n",
       "       'Office of Human Rights',\n",
       "       'Office of Intergovernmental Relations Department',\n",
       "       'Department of Public Libraries',\n",
       "       'Merit System Protection Board Department',\n",
       "       'Non-Departmental Account', 'Office of Agriculture',\n",
       "       'Office of Animal Services', 'Office of Consumer Protection',\n",
       "       'Office of Food Systems Resilience', 'Office of Grants Management',\n",
       "       'Office of Human Resources', 'Office of the Inspector General',\n",
       "       'Office of Legislative Oversight', 'Office of Labor Relations',\n",
       "       'Office of Management and Budget',\n",
       "       'Office of Racial Equity and Social Justice',\n",
       "       'Office of Public Information', 'Department of Police',\n",
       "       'Office of Procurement', 'Department of Recreation',\n",
       "       \"Sheriff's Office\",\n",
       "       'Department of Technology and Enterprise Business Solutions',\n",
       "       'Office of Zoning and Administrative Hearings'], dtype=object)"
      ]
     },
     "execution_count": 3,
     "metadata": {},
     "output_type": "execute_result"
    }
   ],
   "source": [
    "# all department names\n",
    "data['Department_Name'].unique()"
   ]
  },
  {
   "cell_type": "code",
   "execution_count": 4,
   "id": "fb196eb1-3b6e-4dfb-a3f1-34d1e36e29f4",
   "metadata": {
    "tags": []
   },
   "outputs": [
    {
     "data": {
      "text/plain": [
       "(548, 501)"
      ]
     },
     "execution_count": 4,
     "metadata": {},
     "output_type": "execute_result"
    }
   ],
   "source": [
    "M = data[data.Gender=='M'].groupby('Division')['Gender'].count()\n",
    "F = data[data.Gender=='F'].groupby('Division')['Gender'].count()\n",
    "len(M), len(F)"
   ]
  },
  {
   "cell_type": "code",
   "execution_count": 5,
   "id": "ea5a44e6-0c3c-4f4a-9cb9-f471367e2809",
   "metadata": {
    "tags": []
   },
   "outputs": [
    {
     "data": {
      "text/plain": [
       "627"
      ]
     },
     "execution_count": 5,
     "metadata": {},
     "output_type": "execute_result"
    }
   ],
   "source": [
    "data.Division.nunique()"
   ]
  },
  {
   "cell_type": "code",
   "execution_count": 6,
   "id": "71f647c6-f53e-43ab-bddb-2bbaf7191604",
   "metadata": {
    "tags": []
   },
   "outputs": [
    {
     "data": {
      "text/plain": [
       "422"
      ]
     },
     "execution_count": 6,
     "metadata": {},
     "output_type": "execute_result"
    }
   ],
   "source": [
    "# choose divisions with both males and females\n",
    "data1 = data[data.Division.isin(M.index) & data.Division.isin(F.index)]\n",
    "data1.Division.nunique()"
   ]
  },
  {
   "cell_type": "code",
   "execution_count": 7,
   "id": "8a85fcd2-7c9e-41a0-b604-b51009847366",
   "metadata": {
    "tags": []
   },
   "outputs": [
    {
     "data": {
      "text/plain": [
       "Department_Name\n",
       "Alcohol Beverage Services                                     34\n",
       "Community Engagement Cluster                                   6\n",
       "Correction and Rehabilitation                                 22\n",
       "County Attorney's Office                                       8\n",
       "Department of Environmental Protection                        18\n",
       "Department of Finance                                         13\n",
       "Department of General Services                                14\n",
       "Department of Health and Human Services                       11\n",
       "Department of Housing and Community Affairs                   11\n",
       "Department of Permitting Services                             17\n",
       "Department of Police                                          78\n",
       "Department of Public Libraries                                27\n",
       "Department of Recreation                                       9\n",
       "Department of Technology and Enterprise Business Solutions    18\n",
       "Department of Transportation                                  31\n",
       "Fire and Rescue Services                                      49\n",
       "Office of Human Resources                                     10\n",
       "Sheriff's Office                                               9\n",
       "Name: Division, dtype: int64"
      ]
     },
     "execution_count": 7,
     "metadata": {},
     "output_type": "execute_result"
    }
   ],
   "source": [
    "# number of divisions of each department\n",
    "div = data1.groupby('Department_Name')['Division'].nunique()[(data1.groupby('Department_Name')['Division'].nunique())>4]\n",
    "div"
   ]
  },
  {
   "cell_type": "code",
   "execution_count": 8,
   "id": "1e18783d-4ace-4ac3-a58c-7bd050faf023",
   "metadata": {},
   "outputs": [
    {
     "data": {
      "text/plain": [
       "Department_Name\n",
       "Alcohol Beverage Services                                      322\n",
       "Community Engagement Cluster                                    95\n",
       "Correction and Rehabilitation                                  473\n",
       "County Attorney's Office                                        71\n",
       "Department of Environmental Protection                         179\n",
       "Department of Finance                                          109\n",
       "Department of General Services                                 291\n",
       "Department of Health and Human Services                       1877\n",
       "Department of Housing and Community Affairs                     83\n",
       "Department of Permitting Services                              195\n",
       "Department of Police                                          1701\n",
       "Department of Public Libraries                                 402\n",
       "Department of Recreation                                       186\n",
       "Department of Technology and Enterprise Business Solutions      85\n",
       "Department of Transportation                                  1236\n",
       "Fire and Rescue Services                                      1020\n",
       "Office of Human Resources                                       58\n",
       "Sheriff's Office                                               187\n",
       "Name: Division, dtype: int64"
      ]
     },
     "execution_count": 8,
     "metadata": {},
     "output_type": "execute_result"
    }
   ],
   "source": [
    "# number of employees of each department\n",
    "data1.groupby('Department_Name')['Division'].count()[(data1.groupby('Department_Name')['Division'].nunique())>4]"
   ]
  },
  {
   "cell_type": "code",
   "execution_count": 9,
   "id": "fae90248-4276-4eb2-b318-fd9a8d93bd76",
   "metadata": {
    "tags": []
   },
   "outputs": [
    {
     "data": {
      "text/plain": [
       "180"
      ]
     },
     "execution_count": 9,
     "metadata": {},
     "output_type": "execute_result"
    }
   ],
   "source": [
    "# r means number of males or females sampled from a division\n",
    "r = 3\n",
    "M_count = data1[data1.Gender=='M'].groupby('Division')['Gender'].count()\n",
    "F_count = data1[data1.Gender=='F'].groupby('Division')['Gender'].count()\n",
    "M_index = M_count[M_count>=r].index\n",
    "F_index = F_count[F_count>=r].index\n",
    "data2 = data1[data1.Division.isin(M_index) & data1.Division.isin(F_index)]\n",
    "data2.Division.nunique()"
   ]
  },
  {
   "cell_type": "code",
   "execution_count": 10,
   "id": "896605f7-cf5e-4b81-a315-e21049b44463",
   "metadata": {
    "tags": []
   },
   "outputs": [
    {
     "data": {
      "text/plain": [
       "12"
      ]
     },
     "execution_count": 10,
     "metadata": {},
     "output_type": "execute_result"
    }
   ],
   "source": [
    "# n means divisions sampled from a department\n",
    "n = 6\n",
    "div = data2.groupby('Department_Name')['Division'].nunique()[(data2.groupby('Department_Name')['Division'].nunique())>=n]\n",
    "len(div)"
   ]
  },
  {
   "cell_type": "code",
   "execution_count": 11,
   "id": "c5d07377-f936-40ff-a4a8-a37198651594",
   "metadata": {
    "tags": []
   },
   "outputs": [
    {
     "data": {
      "text/plain": [
       "Index(['Alcohol Beverage Services', 'Correction and Rehabilitation',\n",
       "       'Department of Environmental Protection', 'Department of Finance',\n",
       "       'Department of General Services',\n",
       "       'Department of Health and Human Services',\n",
       "       'Department of Permitting Services', 'Department of Police',\n",
       "       'Department of Public Libraries', 'Department of Recreation',\n",
       "       'Department of Transportation', 'Fire and Rescue Services'],\n",
       "      dtype='object', name='Department_Name')"
      ]
     },
     "execution_count": 11,
     "metadata": {},
     "output_type": "execute_result"
    }
   ],
   "source": [
    "# sampled departments\n",
    "div.index"
   ]
  },
  {
   "cell_type": "code",
   "execution_count": 12,
   "id": "8e8ffe1e-a233-4f19-8720-14cff37e6ac6",
   "metadata": {
    "tags": []
   },
   "outputs": [
    {
     "data": {
      "text/plain": [
       "6360"
      ]
     },
     "execution_count": 12,
     "metadata": {},
     "output_type": "execute_result"
    }
   ],
   "source": [
    "# population for sampling\n",
    "data2.Department_Name.isin(div.index).sum()"
   ]
  },
  {
   "cell_type": "code",
   "execution_count": 13,
   "id": "3569de7e-201c-4bef-beee-ecf1c01cb559",
   "metadata": {
    "tags": []
   },
   "outputs": [
    {
     "data": {
      "text/html": [
       "<div>\n",
       "<style scoped>\n",
       "    .dataframe tbody tr th:only-of-type {\n",
       "        vertical-align: middle;\n",
       "    }\n",
       "\n",
       "    .dataframe tbody tr th {\n",
       "        vertical-align: top;\n",
       "    }\n",
       "\n",
       "    .dataframe thead th {\n",
       "        text-align: right;\n",
       "    }\n",
       "</style>\n",
       "<table border=\"1\" class=\"dataframe\">\n",
       "  <thead>\n",
       "    <tr style=\"text-align: right;\">\n",
       "      <th></th>\n",
       "      <th>Domain</th>\n",
       "      <th>Department</th>\n",
       "      <th>Department_Name</th>\n",
       "      <th>Division</th>\n",
       "      <th>Gender</th>\n",
       "      <th>Base_Salary</th>\n",
       "      <th>Overtime_Pay</th>\n",
       "      <th>Longevity_Pay</th>\n",
       "      <th>Total_Salary</th>\n",
       "    </tr>\n",
       "  </thead>\n",
       "  <tbody>\n",
       "    <tr>\n",
       "      <th>0</th>\n",
       "      <td>Public Safety</td>\n",
       "      <td>ABS</td>\n",
       "      <td>Alcohol Beverage Services</td>\n",
       "      <td>ABS 85 Administrative Services</td>\n",
       "      <td>F</td>\n",
       "      <td>89432.6940</td>\n",
       "      <td>0.00</td>\n",
       "      <td>2490.00</td>\n",
       "      <td>91922.6940</td>\n",
       "    </tr>\n",
       "    <tr>\n",
       "      <th>1</th>\n",
       "      <td>Public Safety</td>\n",
       "      <td>ABS</td>\n",
       "      <td>Alcohol Beverage Services</td>\n",
       "      <td>ABS 85 Administrative Services</td>\n",
       "      <td>F</td>\n",
       "      <td>78947.0000</td>\n",
       "      <td>456.68</td>\n",
       "      <td>6257.70</td>\n",
       "      <td>85661.3800</td>\n",
       "    </tr>\n",
       "    <tr>\n",
       "      <th>2</th>\n",
       "      <td>Public Safety</td>\n",
       "      <td>ABS</td>\n",
       "      <td>Alcohol Beverage Services</td>\n",
       "      <td>ABS 85 Administrative Services</td>\n",
       "      <td>F</td>\n",
       "      <td>98228.0000</td>\n",
       "      <td>518.80</td>\n",
       "      <td>998.28</td>\n",
       "      <td>99745.0800</td>\n",
       "    </tr>\n",
       "    <tr>\n",
       "      <th>3</th>\n",
       "      <td>Public Safety</td>\n",
       "      <td>ABS</td>\n",
       "      <td>Alcohol Beverage Services</td>\n",
       "      <td>ABS 85 Administrative Services</td>\n",
       "      <td>F</td>\n",
       "      <td>82405.3864</td>\n",
       "      <td>549.20</td>\n",
       "      <td>0.00</td>\n",
       "      <td>82954.5864</td>\n",
       "    </tr>\n",
       "    <tr>\n",
       "      <th>4</th>\n",
       "      <td>Public Safety</td>\n",
       "      <td>ABS</td>\n",
       "      <td>Alcohol Beverage Services</td>\n",
       "      <td>ABS 85 Administrative Services</td>\n",
       "      <td>M</td>\n",
       "      <td>93986.0000</td>\n",
       "      <td>1187.06</td>\n",
       "      <td>2452.94</td>\n",
       "      <td>97626.0000</td>\n",
       "    </tr>\n",
       "    <tr>\n",
       "      <th>...</th>\n",
       "      <td>...</td>\n",
       "      <td>...</td>\n",
       "      <td>...</td>\n",
       "      <td>...</td>\n",
       "      <td>...</td>\n",
       "      <td>...</td>\n",
       "      <td>...</td>\n",
       "      <td>...</td>\n",
       "      <td>...</td>\n",
       "    </tr>\n",
       "    <tr>\n",
       "      <th>6355</th>\n",
       "      <td>Community Services</td>\n",
       "      <td>REC</td>\n",
       "      <td>Department of Recreation</td>\n",
       "      <td>REC 72 Facilities Division</td>\n",
       "      <td>F</td>\n",
       "      <td>56341.7500</td>\n",
       "      <td>0.00</td>\n",
       "      <td>0.00</td>\n",
       "      <td>56341.7500</td>\n",
       "    </tr>\n",
       "    <tr>\n",
       "      <th>6356</th>\n",
       "      <td>Community Services</td>\n",
       "      <td>REC</td>\n",
       "      <td>Department of Recreation</td>\n",
       "      <td>REC 72 Facilities Division</td>\n",
       "      <td>M</td>\n",
       "      <td>66031.8874</td>\n",
       "      <td>0.00</td>\n",
       "      <td>0.00</td>\n",
       "      <td>66031.8874</td>\n",
       "    </tr>\n",
       "    <tr>\n",
       "      <th>6357</th>\n",
       "      <td>Community Services</td>\n",
       "      <td>REC</td>\n",
       "      <td>Department of Recreation</td>\n",
       "      <td>REC 72 Facilities Division</td>\n",
       "      <td>M</td>\n",
       "      <td>56000.0000</td>\n",
       "      <td>0.00</td>\n",
       "      <td>0.00</td>\n",
       "      <td>56000.0000</td>\n",
       "    </tr>\n",
       "    <tr>\n",
       "      <th>6358</th>\n",
       "      <td>Community Services</td>\n",
       "      <td>REC</td>\n",
       "      <td>Department of Recreation</td>\n",
       "      <td>REC 72 Facilities Division</td>\n",
       "      <td>F</td>\n",
       "      <td>105376.9104</td>\n",
       "      <td>0.00</td>\n",
       "      <td>0.00</td>\n",
       "      <td>105376.9104</td>\n",
       "    </tr>\n",
       "    <tr>\n",
       "      <th>6359</th>\n",
       "      <td>Community Services</td>\n",
       "      <td>REC</td>\n",
       "      <td>Department of Recreation</td>\n",
       "      <td>REC 72 Facilities Division</td>\n",
       "      <td>F</td>\n",
       "      <td>65205.9729</td>\n",
       "      <td>1527.95</td>\n",
       "      <td>0.00</td>\n",
       "      <td>66733.9229</td>\n",
       "    </tr>\n",
       "  </tbody>\n",
       "</table>\n",
       "<p>6360 rows × 9 columns</p>\n",
       "</div>"
      ],
      "text/plain": [
       "                  Domain Department            Department_Name  \\\n",
       "0          Public Safety        ABS  Alcohol Beverage Services   \n",
       "1          Public Safety        ABS  Alcohol Beverage Services   \n",
       "2          Public Safety        ABS  Alcohol Beverage Services   \n",
       "3          Public Safety        ABS  Alcohol Beverage Services   \n",
       "4          Public Safety        ABS  Alcohol Beverage Services   \n",
       "...                  ...        ...                        ...   \n",
       "6355  Community Services        REC   Department of Recreation   \n",
       "6356  Community Services        REC   Department of Recreation   \n",
       "6357  Community Services        REC   Department of Recreation   \n",
       "6358  Community Services        REC   Department of Recreation   \n",
       "6359  Community Services        REC   Department of Recreation   \n",
       "\n",
       "                            Division Gender  Base_Salary  Overtime_Pay  \\\n",
       "0     ABS 85 Administrative Services      F   89432.6940          0.00   \n",
       "1     ABS 85 Administrative Services      F   78947.0000        456.68   \n",
       "2     ABS 85 Administrative Services      F   98228.0000        518.80   \n",
       "3     ABS 85 Administrative Services      F   82405.3864        549.20   \n",
       "4     ABS 85 Administrative Services      M   93986.0000       1187.06   \n",
       "...                              ...    ...          ...           ...   \n",
       "6355      REC 72 Facilities Division      F   56341.7500          0.00   \n",
       "6356      REC 72 Facilities Division      M   66031.8874          0.00   \n",
       "6357      REC 72 Facilities Division      M   56000.0000          0.00   \n",
       "6358      REC 72 Facilities Division      F  105376.9104          0.00   \n",
       "6359      REC 72 Facilities Division      F   65205.9729       1527.95   \n",
       "\n",
       "      Longevity_Pay  Total_Salary  \n",
       "0           2490.00    91922.6940  \n",
       "1           6257.70    85661.3800  \n",
       "2            998.28    99745.0800  \n",
       "3              0.00    82954.5864  \n",
       "4           2452.94    97626.0000  \n",
       "...             ...           ...  \n",
       "6355           0.00    56341.7500  \n",
       "6356           0.00    66031.8874  \n",
       "6357           0.00    56000.0000  \n",
       "6358           0.00   105376.9104  \n",
       "6359           0.00    66733.9229  \n",
       "\n",
       "[6360 rows x 9 columns]"
      ]
     },
     "execution_count": 13,
     "metadata": {},
     "output_type": "execute_result"
    }
   ],
   "source": [
    "def assign_domain(department_name):\n",
    "    public_safety_departments = [\n",
    "        'Alcohol Beverage Services',\n",
    "        'Correction and Rehabilitation',\n",
    "        'Department of Police',\n",
    "        'Fire and Rescue Services',\n",
    "        'Sheriff\\'s Office'\n",
    "    ]\n",
    "    \n",
    "    administrative_departments = [\n",
    "        'Board of Elections',\n",
    "        'County Attorney\\'s Office',\n",
    "        'Department of Finance',\n",
    "        'Department of General Services',\n",
    "        'Department of Permitting Services',\n",
    "        'Department of Technology and Enterprise Business Solutions',\n",
    "        'Office of Human Resources',\n",
    "        'Office of Procurement',\n",
    "        'Offices of the County Executive'\n",
    "    ]\n",
    "    \n",
    "    community_departments = [\n",
    "        'Community Engagement Cluster',\n",
    "        'Community Use of Public Facilities',\n",
    "        'Department of Environmental Protection',\n",
    "        'Department of Health and Human Services',\n",
    "        'Department of Housing and Community Affairs',\n",
    "        'Department of Public Libraries',\n",
    "        'Department of Recreation',\n",
    "        'Department of Transportation',\n",
    "        'Office of Public Information'\n",
    "    ]\n",
    "    \n",
    "    if department_name in public_safety_departments:\n",
    "        return 'Public Safety'\n",
    "    elif department_name in administrative_departments:\n",
    "        return 'Administrative Services'\n",
    "    elif department_name in community_departments:\n",
    "        return 'Community Services'\n",
    "    else:\n",
    "        return None\n",
    "\n",
    "data3 = data2[data2.Department_Name.isin(div.index)].reset_index(drop=True)\n",
    "domain = data3['Department_Name'].apply(assign_domain).rename('Domain')\n",
    "data3 = pd.concat([domain, data3], axis=1)\n",
    "data3.loc[:,'Total_Salary'] = data3.Base_Salary + data3.Overtime_Pay + data3.Longevity_Pay\n",
    "data3"
   ]
  },
  {
   "cell_type": "code",
   "execution_count": 14,
   "id": "93621ae5-6bf2-40d9-881e-d2d6f7a82187",
   "metadata": {
    "tags": []
   },
   "outputs": [
    {
     "data": {
      "text/plain": [
       "Domain\n",
       "Administrative Services    3\n",
       "Community Services         5\n",
       "Public Safety              4\n",
       "Name: Department_Name, dtype: int64"
      ]
     },
     "execution_count": 14,
     "metadata": {},
     "output_type": "execute_result"
    }
   ],
   "source": [
    "# number of departments in each domain\n",
    "data3.groupby('Domain')['Department_Name'].nunique()"
   ]
  },
  {
   "cell_type": "code",
   "execution_count": 15,
   "id": "e7b33240-e2c5-4e5a-9ede-a6c1efaf74e5",
   "metadata": {
    "tags": []
   },
   "outputs": [
    {
     "data": {
      "image/png": "[encoded data removed]",
      "text/plain": [
       "<Figure size 1500x600 with 2 Axes>"
      ]
     },
     "metadata": {},
     "output_type": "display_data"
    }
   ],
   "source": [
    "fig, axes = plt.subplots(1, 2, figsize=(15, 6), sharey=False)\n",
    "\n",
    "sns.boxplot(y='Domain', x='Base_Salary', data=data3, ax=axes[0])\n",
    "axes[0].set_title('Base Salary by Domain')\n",
    "axes[0].set_ylabel('Domain')\n",
    "axes[0].set_xlabel('Base Salary')\n",
    "\n",
    "sns.boxplot(y='Domain', x='Total_Salary', data=data3, ax=axes[1])\n",
    "axes[1].set_title('Total Salary by Domain')\n",
    "axes[1].set_ylabel('Domain')\n",
    "axes[1].set_xlabel('Total Salary')\n",
    "\n",
    "plt.tight_layout()\n",
    "plt.show()"
   ]
  },
  {
   "cell_type": "code",
   "execution_count": 16,
   "id": "fad5537c-3781-4b44-b821-662be8fe2556",
   "metadata": {
    "tags": []
   },
   "outputs": [
    {
     "data": {
      "image/png": "[encoded data removed]",
      "text/plain": [
       "<Figure size 1500x600 with 2 Axes>"
      ]
     },
     "metadata": {},
     "output_type": "display_data"
    }
   ],
   "source": [
    "fig, axes = plt.subplots(1, 2, figsize=(15, 6), sharey=False)\n",
    "\n",
    "sns.boxplot(y='Domain', x='Overtime_Pay', data=data3, ax=axes[0])\n",
    "axes[0].set_title('Overtime Pay by Domain')\n",
    "axes[0].set_ylabel('Domain')\n",
    "axes[0].set_xlabel('Overtime Pay')\n",
    "\n",
    "sns.boxplot(y='Domain', x='Longevity_Pay', data=data3, ax=axes[1])\n",
    "axes[1].set_title('Longevity Pay by Domain')\n",
    "axes[1].set_ylabel('Domain')\n",
    "axes[1].set_xlabel('Longevity Pay')\n",
    "\n",
    "plt.tight_layout()\n",
    "plt.show()"
   ]
  },
  {
   "cell_type": "code",
   "execution_count": 17,
   "id": "1ae4190d-4652-492d-ad83-65986ed8e78b",
   "metadata": {
    "tags": []
   },
   "outputs": [
    {
     "data": {
      "image/png": "[encoded data removed]",
      "text/plain": [
       "<Figure size 1500x500 with 3 Axes>"
      ]
     },
     "metadata": {},
     "output_type": "display_data"
    }
   ],
   "source": [
    "fig, axes = plt.subplots(1, 3, figsize=(15, 5), sharey=False)\n",
    "\n",
    "for i, domain in enumerate(data3['Domain'].unique()):\n",
    "    subset_data = data3[data3['Domain'] == domain]\n",
    "    \n",
    "    sns.boxplot(x='Base_Salary', y='Department', data=subset_data, ax=axes[i])\n",
    "    \n",
    "    axes[i].set_title(f'Base Salary - {domain}')\n",
    "    axes[i].set_xlabel('Base Salary')\n",
    "    axes[i].set_ylabel('Department')\n",
    "\n",
    "plt.tight_layout()\n",
    "plt.show()"
   ]
  },
  {
   "cell_type": "code",
   "execution_count": 18,
   "id": "f63b1377-3bb4-45de-8a36-ae9aa787652c",
   "metadata": {
    "tags": []
   },
   "outputs": [
    {
     "data": {
      "image/png": "[encoded data removed]",
      "text/plain": [
       "<Figure size 1500x500 with 3 Axes>"
      ]
     },
     "metadata": {},
     "output_type": "display_data"
    }
   ],
   "source": [
    "fig, axes = plt.subplots(1, 3, figsize=(15, 5), sharey=False)\n",
    "\n",
    "for i, domain in enumerate(data3['Domain'].unique()):\n",
    "    subset_data = data3[data3['Domain'] == domain]\n",
    "    \n",
    "    sns.boxplot(x='Total_Salary', y='Department', data=subset_data, ax=axes[i])\n",
    "    \n",
    "    axes[i].set_title(f'Total Salary - {domain}')\n",
    "    axes[i].set_xlabel('Total Salary')\n",
    "    axes[i].set_ylabel('Department')\n",
    "\n",
    "plt.tight_layout()\n",
    "plt.show()"
   ]
  },
  {
   "cell_type": "code",
   "execution_count": 19,
   "id": "6fe88569-c8a3-4606-b616-d76d87e0a969",
   "metadata": {
    "tags": []
   },
   "outputs": [
    {
     "data": {
      "image/png": "[encoded data removed]",
      "text/plain": [
       "<Figure size 1500x600 with 2 Axes>"
      ]
     },
     "metadata": {},
     "output_type": "display_data"
    }
   ],
   "source": [
    "fig, axes = plt.subplots(1, 2, figsize=(15, 6), sharey=False)\n",
    "\n",
    "sns.boxplot(y='Gender', x='Base_Salary', data=data3, ax=axes[0])\n",
    "axes[0].set_title('Base Salary by Gender')\n",
    "axes[0].set_ylabel('Gender')\n",
    "axes[0].set_xlabel('Base Salary')\n",
    "\n",
    "sns.boxplot(y='Gender', x='Total_Salary', data=data3, ax=axes[1])\n",
    "axes[1].set_title('Total Salary by Gender')\n",
    "axes[1].set_ylabel('Gender')\n",
    "axes[1].set_xlabel('Total Salary')\n",
    "\n",
    "plt.tight_layout()\n",
    "plt.show()"
   ]
  },
  {
   "cell_type": "code",
   "execution_count": 20,
   "id": "8787dca6-00dd-4b6d-96c3-53004ecf0ed7",
   "metadata": {
    "tags": []
   },
   "outputs": [
    {
     "data": {
      "image/png": "[encoded data removed]",
      "text/plain": [
       "<Figure size 1262.24x600 with 1 Axes>"
      ]
     },
     "metadata": {},
     "output_type": "display_data"
    }
   ],
   "source": [
    "sns.catplot(x='Domain', y='Base_Salary', hue='Gender', kind='box', data=data3, height=6, aspect=2)\n",
    "\n",
    "plt.title('Base Salary by Domain and Gender')\n",
    "plt.xlabel('Domain')\n",
    "plt.ylabel('Base Salary')\n",
    "\n",
    "plt.show()"
   ]
  },
  {
   "cell_type": "code",
   "execution_count": 21,
   "id": "748681dd-4a90-4dab-9cb0-a3b28312b5c2",
   "metadata": {
    "tags": []
   },
   "outputs": [
    {
     "data": {
      "image/png": "[encoded data removed]",
      "text/plain": [
       "<Figure size 1262.24x600 with 1 Axes>"
      ]
     },
     "metadata": {},
     "output_type": "display_data"
    }
   ],
   "source": [
    "sns.catplot(x='Domain', y='Total_Salary', hue='Gender', kind='box', data=data3, height=6, aspect=2)\n",
    "\n",
    "plt.title('Total Salary by Domain and Gender')\n",
    "plt.xlabel('Domain')\n",
    "plt.ylabel('Total Salary')\n",
    "\n",
    "plt.show()"
   ]
  },
  {
   "cell_type": "code",
   "execution_count": 22,
   "id": "8e2e52db-7879-4724-979b-47a669ed6f60",
   "metadata": {
    "tags": []
   },
   "outputs": [
    {
     "data": {
      "text/html": [
       "<div>\n",
       "<style scoped>\n",
       "    .dataframe tbody tr th:only-of-type {\n",
       "        vertical-align: middle;\n",
       "    }\n",
       "\n",
       "    .dataframe tbody tr th {\n",
       "        vertical-align: top;\n",
       "    }\n",
       "\n",
       "    .dataframe thead th {\n",
       "        text-align: right;\n",
       "    }\n",
       "</style>\n",
       "<table border=\"1\" class=\"dataframe\">\n",
       "  <thead>\n",
       "    <tr style=\"text-align: right;\">\n",
       "      <th></th>\n",
       "      <th>Source</th>\n",
       "      <th>SS</th>\n",
       "      <th>DF</th>\n",
       "      <th>MS</th>\n",
       "      <th>F</th>\n",
       "      <th>p-unc</th>\n",
       "      <th>np2</th>\n",
       "    </tr>\n",
       "  </thead>\n",
       "  <tbody>\n",
       "    <tr>\n",
       "      <th>0</th>\n",
       "      <td>Domain</td>\n",
       "      <td>4.135545e+10</td>\n",
       "      <td>2.0</td>\n",
       "      <td>2.067772e+10</td>\n",
       "      <td>28.845242</td>\n",
       "      <td>3.382196e-13</td>\n",
       "      <td>0.008998</td>\n",
       "    </tr>\n",
       "    <tr>\n",
       "      <th>1</th>\n",
       "      <td>Gender</td>\n",
       "      <td>1.433110e+10</td>\n",
       "      <td>1.0</td>\n",
       "      <td>1.433110e+10</td>\n",
       "      <td>19.991759</td>\n",
       "      <td>7.912874e-06</td>\n",
       "      <td>0.003136</td>\n",
       "    </tr>\n",
       "    <tr>\n",
       "      <th>2</th>\n",
       "      <td>Domain * Gender</td>\n",
       "      <td>9.487984e+10</td>\n",
       "      <td>2.0</td>\n",
       "      <td>4.743992e+10</td>\n",
       "      <td>66.178267</td>\n",
       "      <td>3.584206e-29</td>\n",
       "      <td>0.020405</td>\n",
       "    </tr>\n",
       "    <tr>\n",
       "      <th>3</th>\n",
       "      <td>Residual</td>\n",
       "      <td>4.554868e+12</td>\n",
       "      <td>6354.0</td>\n",
       "      <td>7.168504e+08</td>\n",
       "      <td>NaN</td>\n",
       "      <td>NaN</td>\n",
       "      <td>NaN</td>\n",
       "    </tr>\n",
       "  </tbody>\n",
       "</table>\n",
       "</div>"
      ],
      "text/plain": [
       "            Source            SS      DF            MS          F  \\\n",
       "0           Domain  4.135545e+10     2.0  2.067772e+10  28.845242   \n",
       "1           Gender  1.433110e+10     1.0  1.433110e+10  19.991759   \n",
       "2  Domain * Gender  9.487984e+10     2.0  4.743992e+10  66.178267   \n",
       "3         Residual  4.554868e+12  6354.0  7.168504e+08        NaN   \n",
       "\n",
       "          p-unc       np2  \n",
       "0  3.382196e-13  0.008998  \n",
       "1  7.912874e-06  0.003136  \n",
       "2  3.584206e-29  0.020405  \n",
       "3           NaN       NaN  "
      ]
     },
     "execution_count": 22,
     "metadata": {},
     "output_type": "execute_result"
    }
   ],
   "source": [
    "pg.anova(dv='Base_Salary', between=['Domain', 'Gender'], data=data3, detailed=True)"
   ]
  },
  {
   "cell_type": "code",
   "execution_count": 23,
   "id": "c3610fea-b5ac-424f-adf3-c99d4bbf2a01",
   "metadata": {
    "tags": []
   },
   "outputs": [
    {
     "data": {
      "text/html": [
       "<div>\n",
       "<style scoped>\n",
       "    .dataframe tbody tr th:only-of-type {\n",
       "        vertical-align: middle;\n",
       "    }\n",
       "\n",
       "    .dataframe tbody tr th {\n",
       "        vertical-align: top;\n",
       "    }\n",
       "\n",
       "    .dataframe thead th {\n",
       "        text-align: right;\n",
       "    }\n",
       "</style>\n",
       "<table border=\"1\" class=\"dataframe\">\n",
       "  <thead>\n",
       "    <tr style=\"text-align: right;\">\n",
       "      <th></th>\n",
       "      <th>Source</th>\n",
       "      <th>SS</th>\n",
       "      <th>DF</th>\n",
       "      <th>MS</th>\n",
       "      <th>F</th>\n",
       "      <th>p-unc</th>\n",
       "      <th>np2</th>\n",
       "    </tr>\n",
       "  </thead>\n",
       "  <tbody>\n",
       "    <tr>\n",
       "      <th>0</th>\n",
       "      <td>Domain</td>\n",
       "      <td>6.826909e+10</td>\n",
       "      <td>2.0</td>\n",
       "      <td>3.413454e+10</td>\n",
       "      <td>31.911635</td>\n",
       "      <td>1.622164e-14</td>\n",
       "      <td>0.009945</td>\n",
       "    </tr>\n",
       "    <tr>\n",
       "      <th>1</th>\n",
       "      <td>Gender</td>\n",
       "      <td>1.820821e+11</td>\n",
       "      <td>1.0</td>\n",
       "      <td>1.820821e+11</td>\n",
       "      <td>170.224589</td>\n",
       "      <td>2.052591e-38</td>\n",
       "      <td>0.026091</td>\n",
       "    </tr>\n",
       "    <tr>\n",
       "      <th>2</th>\n",
       "      <td>Domain * Gender</td>\n",
       "      <td>9.767870e+10</td>\n",
       "      <td>2.0</td>\n",
       "      <td>4.883935e+10</td>\n",
       "      <td>45.658837</td>\n",
       "      <td>2.050025e-20</td>\n",
       "      <td>0.014168</td>\n",
       "    </tr>\n",
       "    <tr>\n",
       "      <th>3</th>\n",
       "      <td>Residual</td>\n",
       "      <td>6.796608e+12</td>\n",
       "      <td>6354.0</td>\n",
       "      <td>1.069658e+09</td>\n",
       "      <td>NaN</td>\n",
       "      <td>NaN</td>\n",
       "      <td>NaN</td>\n",
       "    </tr>\n",
       "  </tbody>\n",
       "</table>\n",
       "</div>"
      ],
      "text/plain": [
       "            Source            SS      DF            MS           F  \\\n",
       "0           Domain  6.826909e+10     2.0  3.413454e+10   31.911635   \n",
       "1           Gender  1.820821e+11     1.0  1.820821e+11  170.224589   \n",
       "2  Domain * Gender  9.767870e+10     2.0  4.883935e+10   45.658837   \n",
       "3         Residual  6.796608e+12  6354.0  1.069658e+09         NaN   \n",
       "\n",
       "          p-unc       np2  \n",
       "0  1.622164e-14  0.009945  \n",
       "1  2.052591e-38  0.026091  \n",
       "2  2.050025e-20  0.014168  \n",
       "3           NaN       NaN  "
      ]
     },
     "execution_count": 23,
     "metadata": {},
     "output_type": "execute_result"
    }
   ],
   "source": [
    "pg.anova(dv='Total_Salary', between=['Domain', 'Gender'], data=data3, detailed=True)"
   ]
  },
  {
   "cell_type": "code",
   "execution_count": 24,
   "id": "24da07ac-3d84-4357-9665-409af4490fc9",
   "metadata": {
    "tags": []
   },
   "outputs": [
    {
     "data": {
      "text/plain": [
       "(17, 27)"
      ]
     },
     "execution_count": 24,
     "metadata": {},
     "output_type": "execute_result"
    }
   ],
   "source": [
    "# choose data cell with rational variance\n",
    "data4 = data3.copy()\n",
    "div_var = data4.groupby(['Division', 'Gender'])['Total_Salary'].var()\n",
    "condition1 = div_var > 1.75e9\n",
    "condition2 = div_var < 1.2e8\n",
    "condition1.sum(), condition2.sum()"
   ]
  },
  {
   "cell_type": "code",
   "execution_count": 25,
   "id": "b5fed29f-76fb-4ad9-aeec-3d2475f73d2f",
   "metadata": {
    "tags": []
   },
   "outputs": [
    {
     "data": {
      "text/plain": [
       "Department_Name\n",
       "Alcohol Beverage Services                  14\n",
       "Correction and Rehabilitation               6\n",
       "Department of Environmental Protection      6\n",
       "Department of Finance                       4\n",
       "Department of General Services              4\n",
       "Department of Health and Human Services    10\n",
       "Department of Permitting Services           4\n",
       "Department of Police                       23\n",
       "Department of Public Libraries             12\n",
       "Department of Recreation                    6\n",
       "Department of Transportation               13\n",
       "Fire and Rescue Services                    4\n",
       "Name: Division, dtype: int64"
      ]
     },
     "execution_count": 25,
     "metadata": {},
     "output_type": "execute_result"
    }
   ],
   "source": [
    "data4 = data4[~data4.Division.isin(div_var[condition1|condition2].index.get_level_values('Division'))].reset_index(drop=True)\n",
    "data4.groupby('Department_Name')['Division'].nunique()"
   ]
  },
  {
   "cell_type": "code",
   "execution_count": 26,
   "id": "0bd8c8aa-c584-4241-aa0f-1536a46f4511",
   "metadata": {
    "tags": []
   },
   "outputs": [],
   "source": [
    "# thr1 = 380000\n",
    "# thr2 = 200000\n",
    "# condition3 = data3.Total_Salary>thr1\n",
    "# condition4 = (data3.Domain=='Community Services') & (data3.Total_Salary>thr2)\n",
    "# condition3.sum(), condition4.sum()"
   ]
  },
  {
   "cell_type": "code",
   "execution_count": 27,
   "id": "84584404-e73d-448b-a87d-beb6e31b9102",
   "metadata": {
    "tags": []
   },
   "outputs": [],
   "source": [
    "# data4 = data3[~(condition3|condition4)].reset_index(drop=True)\n",
    "# len(data4)"
   ]
  },
  {
   "cell_type": "code",
   "execution_count": 28,
   "id": "892abdbc-b80f-4b55-a4cd-a5c57516a092",
   "metadata": {
    "tags": []
   },
   "outputs": [
    {
     "data": {
      "text/plain": [
       "Department_Name\n",
       "Alcohol Beverage Services                 14\n",
       "Correction and Rehabilitation              6\n",
       "Department of Environmental Protection     6\n",
       "Department of Finance                      4\n",
       "Department of General Services             4\n",
       "Department of Permitting Services          4\n",
       "Department of Public Libraries            12\n",
       "Department of Recreation                   6\n",
       "Fire and Rescue Services                   4\n",
       "Name: Division, dtype: int64"
      ]
     },
     "execution_count": 28,
     "metadata": {},
     "output_type": "execute_result"
    }
   ],
   "source": [
    "# new number of divisions in each department\n",
    "data4 = data4[~data4.Department.isin(['HHS','DOT','POL'])].reset_index(drop=True)\n",
    "data4.groupby('Department_Name')['Division'].nunique()"
   ]
  },
  {
   "cell_type": "code",
   "execution_count": 29,
   "id": "cb7c9daf-c25d-44d4-917c-82047a8d5da1",
   "metadata": {
    "tags": []
   },
   "outputs": [
    {
     "name": "stdout",
     "output_type": "stream",
     "text": [
      "Levene's Test Result:\n",
      "Statistic: 1.4933951074249785\n",
      "p-value: 0.0008330362874911576\n"
     ]
    }
   ],
   "source": [
    "# test for homo-variance of base salary\n",
    "groups = []\n",
    "for (division, gender), group_data in data4.groupby(['Division', 'Gender']):\n",
    "    groups.append(group_data['Base_Salary'])\n",
    "levene_test_result = stats.levene(*groups)\n",
    "print(\"Levene's Test Result:\")\n",
    "print(\"Statistic:\", levene_test_result.statistic)\n",
    "print(\"p-value:\", levene_test_result.pvalue)"
   ]
  },
  {
   "cell_type": "code",
   "execution_count": 30,
   "id": "0be473b7-cfb8-4fd5-83ac-150506a68613",
   "metadata": {
    "tags": []
   },
   "outputs": [
    {
     "name": "stdout",
     "output_type": "stream",
     "text": [
      "Levene's Test Result:\n",
      "Statistic: 1.352875679762503\n",
      "p-value: 0.009456309698106869\n"
     ]
    }
   ],
   "source": [
    "# test for homo-variance of total salary\n",
    "groups = []\n",
    "for (division, gender), group_data in data4.groupby(['Division', 'Gender']):\n",
    "    groups.append(group_data['Total_Salary'])\n",
    "levene_test_result = stats.levene(*groups)\n",
    "print(\"Levene's Test Result:\")\n",
    "print(\"Statistic:\", levene_test_result.statistic)\n",
    "print(\"p-value:\", levene_test_result.pvalue)"
   ]
  },
  {
   "cell_type": "code",
   "execution_count": 31,
   "id": "23379ffd-c5e0-4962-9a72-8926994c058a",
   "metadata": {
    "tags": []
   },
   "outputs": [
    {
     "data": {
      "image/png": "[encoded data removed]",
      "text/plain": [
       "<Figure size 800x600 with 1 Axes>"
      ]
     },
     "metadata": {},
     "output_type": "display_data"
    }
   ],
   "source": [
    "s2 = np.log(data4.groupby(['Division', 'Gender'])['Total_Salary'].var())\n",
    "bar = np.log(data4.groupby(['Division', 'Gender'])['Total_Salary'].mean())\n",
    "\n",
    "plt.figure(figsize=(8, 6))\n",
    "plt.scatter(np.e**bar, np.e**s2, color='blue', alpha=0.7)\n",
    "plt.title('Scatter Plot')\n",
    "plt.xlabel('Salary Mean')\n",
    "plt.ylabel('Salary Variance')\n",
    "plt.grid(True)\n",
    "plt.show()"
   ]
  },
  {
   "cell_type": "code",
   "execution_count": 32,
   "id": "b2c5fa2a-18fd-4134-b5a1-b418624bd0cb",
   "metadata": {
    "tags": []
   },
   "outputs": [
    {
     "data": {
      "text/plain": [
       "1.12"
      ]
     },
     "execution_count": 32,
     "metadata": {},
     "output_type": "execute_result"
    }
   ],
   "source": [
    "X = sm.add_constant(bar)\n",
    "model = sm.OLS(s2, X).fit()\n",
    "slope = model.params['Total_Salary']\n",
    "power = 1 - slope/2\n",
    "power.round(2)"
   ]
  },
  {
   "cell_type": "code",
   "execution_count": 33,
   "id": "9e33f733-bfce-49f3-8231-b499ccddb93a",
   "metadata": {
    "tags": []
   },
   "outputs": [
    {
     "name": "stdout",
     "output_type": "stream",
     "text": [
      "Levene's Test Result:\n",
      "Statistic: 1.3280127077308295\n",
      "p-value: 0.01390357836124939\n"
     ]
    }
   ],
   "source": [
    "# transformation and test again\n",
    "data5 = data4.copy()\n",
    "data5.Total_Salary = (data4.Total_Salary)**power\n",
    "\n",
    "groups = []\n",
    "for (division, gender), group_data in data5.groupby(['Division', 'Gender']):\n",
    "    groups.append(group_data['Total_Salary'])\n",
    "levene_test_result = stats.levene(*groups)\n",
    "print(\"Levene's Test Result:\")\n",
    "print(\"Statistic:\", levene_test_result.statistic)\n",
    "print(\"p-value:\", levene_test_result.pvalue)"
   ]
  },
  {
   "cell_type": "code",
   "execution_count": 34,
   "id": "8a078a61-2ac0-457c-8fea-948e0916feef",
   "metadata": {
    "tags": []
   },
   "outputs": [
    {
     "data": {
      "text/html": [
       "<div>\n",
       "<style scoped>\n",
       "    .dataframe tbody tr th:only-of-type {\n",
       "        vertical-align: middle;\n",
       "    }\n",
       "\n",
       "    .dataframe tbody tr th {\n",
       "        vertical-align: top;\n",
       "    }\n",
       "\n",
       "    .dataframe thead th {\n",
       "        text-align: right;\n",
       "    }\n",
       "</style>\n",
       "<table border=\"1\" class=\"dataframe\">\n",
       "  <thead>\n",
       "    <tr style=\"text-align: right;\">\n",
       "      <th></th>\n",
       "      <th>Source</th>\n",
       "      <th>SS</th>\n",
       "      <th>DF</th>\n",
       "      <th>MS</th>\n",
       "      <th>F</th>\n",
       "      <th>p-unc</th>\n",
       "      <th>np2</th>\n",
       "    </tr>\n",
       "  </thead>\n",
       "  <tbody>\n",
       "    <tr>\n",
       "      <th>0</th>\n",
       "      <td>Domain</td>\n",
       "      <td>2.562880e+12</td>\n",
       "      <td>2.0</td>\n",
       "      <td>1.281440e+12</td>\n",
       "      <td>53.720371</td>\n",
       "      <td>4.070670e-23</td>\n",
       "      <td>0.078456</td>\n",
       "    </tr>\n",
       "    <tr>\n",
       "      <th>1</th>\n",
       "      <td>Gender</td>\n",
       "      <td>3.234671e+11</td>\n",
       "      <td>1.0</td>\n",
       "      <td>3.234671e+11</td>\n",
       "      <td>13.560348</td>\n",
       "      <td>2.407764e-04</td>\n",
       "      <td>0.010631</td>\n",
       "    </tr>\n",
       "    <tr>\n",
       "      <th>2</th>\n",
       "      <td>Domain * Gender</td>\n",
       "      <td>2.454861e+10</td>\n",
       "      <td>2.0</td>\n",
       "      <td>1.227431e+10</td>\n",
       "      <td>0.514562</td>\n",
       "      <td>5.978877e-01</td>\n",
       "      <td>0.000815</td>\n",
       "    </tr>\n",
       "    <tr>\n",
       "      <th>3</th>\n",
       "      <td>Residual</td>\n",
       "      <td>3.010361e+13</td>\n",
       "      <td>1262.0</td>\n",
       "      <td>2.385389e+10</td>\n",
       "      <td>NaN</td>\n",
       "      <td>NaN</td>\n",
       "      <td>NaN</td>\n",
       "    </tr>\n",
       "  </tbody>\n",
       "</table>\n",
       "</div>"
      ],
      "text/plain": [
       "            Source            SS      DF            MS          F  \\\n",
       "0           Domain  2.562880e+12     2.0  1.281440e+12  53.720371   \n",
       "1           Gender  3.234671e+11     1.0  3.234671e+11  13.560348   \n",
       "2  Domain * Gender  2.454861e+10     2.0  1.227431e+10   0.514562   \n",
       "3         Residual  3.010361e+13  1262.0  2.385389e+10        NaN   \n",
       "\n",
       "          p-unc       np2  \n",
       "0  4.070670e-23  0.078456  \n",
       "1  2.407764e-04  0.010631  \n",
       "2  5.978877e-01  0.000815  \n",
       "3           NaN       NaN  "
      ]
     },
     "execution_count": 34,
     "metadata": {},
     "output_type": "execute_result"
    }
   ],
   "source": [
    "pg.anova(dv='Total_Salary', between=['Domain', 'Gender'], data=data5, detailed=True)"
   ]
  },
  {
   "cell_type": "markdown",
   "id": "b74a0a04-0bd8-4b39-809c-f082dd854d86",
   "metadata": {},
   "source": [
    "# Sampling"
   ]
  },
  {
   "cell_type": "code",
   "execution_count": 35,
   "id": "b1d965eb-a730-4b9c-9a9d-80fb40db2273",
   "metadata": {
    "tags": []
   },
   "outputs": [
    {
     "data": {
      "text/plain": [
       "['A', 'B', 'C', 'D', 'A', 'B', 'C', 'D', 'A', 'B', 'C', 'D']"
      ]
     },
     "execution_count": 35,
     "metadata": {},
     "output_type": "execute_result"
    }
   ],
   "source": [
    "list(string.ascii_uppercase)[:4]*3"
   ]
  },
  {
   "cell_type": "code",
   "execution_count": 36,
   "id": "f3b81bdb-5408-47c0-bbb2-c8722f93e58b",
   "metadata": {
    "tags": []
   },
   "outputs": [],
   "source": [
    "# sampling function\n",
    "\n",
    "def sample(data, psu, ssu, num):\n",
    "    df = data.copy()\n",
    "    all_sampled_ssu = np.array([])\n",
    "    result = {}\n",
    "    for p in df[psu].unique():\n",
    "        sampled_ssu = pd.Series(df[df[psu]==p][ssu].unique()).sample(n=num, random_state=19260817)\n",
    "        all_sampled_ssu = np.concatenate([all_sampled_ssu, sampled_ssu])\n",
    "        result[p] = sampled_ssu.values\n",
    "    df = df[df[ssu].isin(all_sampled_ssu)]\n",
    "    # new_name = np.array(list(string.ascii_uppercase)[:num]*df[psu].nunique())\n",
    "    # mapping = dict(zip(all_sampled_ssu, new_name))\n",
    "    # df[ssu] = df[ssu].map(mapping)\n",
    "    return df, result"
   ]
  },
  {
   "cell_type": "code",
   "execution_count": 37,
   "id": "98c94357-ec3c-4796-9f08-07ef811ba9d2",
   "metadata": {
    "tags": []
   },
   "outputs": [
    {
     "data": {
      "text/plain": [
       "{'Public Safety': array(['POL', 'COR', 'ABS'], dtype=object),\n",
       " 'Community Services': array(['REC', 'DOT', 'DEP'], dtype=object),\n",
       " 'Administrative Services': array(['DGS', 'DPS', 'FIN'], dtype=object)}"
      ]
     },
     "execution_count": 37,
     "metadata": {},
     "output_type": "execute_result"
    }
   ],
   "source": [
    "# sample 3 departments from each domain\n",
    "\n",
    "df, result = sample(data3, 'Domain', 'Department', 3)\n",
    "result"
   ]
  },
  {
   "cell_type": "code",
   "execution_count": 38,
   "id": "f91eb149-ba2a-43d9-a277-5e293d2ca4b9",
   "metadata": {
    "tags": []
   },
   "outputs": [
    {
     "data": {
      "text/plain": [
       "{'ABS': array(['ABS 85 Retail Administration', 'ABS 85 Leisure World',\n",
       "        'ABS 85 Administrative Services', 'ABS 85 Aspen Hill',\n",
       "        'ABS 85 Walnut Hill', 'ABS 85 Kingsview'], dtype=object),\n",
       " 'COR': array(['COR 42 PTS Supervision', 'COR 42 DS MCCF Unit 2 Security',\n",
       "        'COR 42 DS MCCF Unit 1 Security',\n",
       "        'COR 42 PRRS Reentry Services and Programs',\n",
       "        'COR 42 MSD Fiscal Services', 'COR 42 DS Inmate Records'],\n",
       "       dtype=object),\n",
       " 'DEP': array(['DEP 80 Resource Conversion',\n",
       "        'DEP 80 Administration and Operations',\n",
       "        'DEP 80 Strategic Services Division',\n",
       "        'DEP 80 Waste Reduction and Recycling',\n",
       "        'DEP 80 Stormwater BMP Inspection and Maintenance',\n",
       "        'DEP 80 Building and Transportation Programs'], dtype=object),\n",
       " 'DGS': array(['DGS 36 Fleet Management Services', 'DGS 36 Central Duplicating',\n",
       "        'DGS 36 Building Design and Construction',\n",
       "        'DGS 36 Fleet Automotive Heavy Equipment',\n",
       "        'DGS 36 Facilities Maintenance', 'DGS 36 Facilities'], dtype=object),\n",
       " 'DOT': array(['DOT 50 Transportation Construction Section',\n",
       "        'DOT 50 Transit Safety and Instruction',\n",
       "        'DOT 50 Commuter Services',\n",
       "        'DOT 50 Transportation Planning and Design Section',\n",
       "        'DOT 50 Transportation Management',\n",
       "        'DOT 50 Transit Nicholson Ride On'], dtype=object),\n",
       " 'DPS': array(['DPS 75 Land Development Sediment Stormwater Plan Review',\n",
       "        'DPS 75 Commercial Bldg/LS/Access/FPS',\n",
       "        'DPS 75 Zoning and Site Plan Compliance', 'DPS 75 Zoning Review',\n",
       "        'DPS 75 Well and Septic Review and Inspections',\n",
       "        'DPS 75 Commercial Sustainability, Energy, and Mechanical'],\n",
       "       dtype=object),\n",
       " 'FIN': array(['FIN 32 Tax Operations', 'FIN 32 Accounts Receivable',\n",
       "        'FIN 32 Accounts Payable', 'FIN 32 Payroll',\n",
       "        'FIN 32 General Accounting',\n",
       "        'FIN 32 Division of Fiscal Management'], dtype=object),\n",
       " 'POL': array(['POL 47 MSB Communications Division',\n",
       "        'POL 47 MSB Information Mgmt and Tech Division Records Management Section',\n",
       "        'POL 47 HQ Office of the Chief Internal Affairs Division',\n",
       "        'POL 47 FSB Traffic Division Automated Traffic Enforcement Section',\n",
       "        'POL 47 ISB Criminal Investigations Division 3rd District Investigative Section',\n",
       "        'POL 47 ISB Forensics Sciences and Evidence Management Division Pattern Sciences Section'],\n",
       "       dtype=object),\n",
       " 'REC': array(['REC 72 Aquatic Team Management',\n",
       "        'REC 72 Youth Development Youth Services',\n",
       "        'REC 72 Business Services', 'REC 72 Special Programs',\n",
       "        'REC 72 Senior Programs', 'REC 72 Facilities Division'],\n",
       "       dtype=object)}"
      ]
     },
     "execution_count": 38,
     "metadata": {},
     "output_type": "execute_result"
    }
   ],
   "source": [
    "# sample 6 divisions from each department\n",
    "\n",
    "df1, result1 = sample(df, 'Department', 'Division', 6)\n",
    "result1"
   ]
  },
  {
   "cell_type": "code",
   "execution_count": 39,
   "id": "a8e3128f-822e-4abe-bda1-59d774927240",
   "metadata": {
    "tags": []
   },
   "outputs": [
    {
     "data": {
      "text/plain": [
       "3"
      ]
     },
     "execution_count": 39,
     "metadata": {},
     "output_type": "execute_result"
    }
   ],
   "source": [
    "df1.groupby(['Division', 'Gender'])['Base_Salary'].count().min()"
   ]
  },
  {
   "cell_type": "code",
   "execution_count": 40,
   "id": "936bfbd6-5b16-4d73-9c2d-a696df12439a",
   "metadata": {
    "tags": []
   },
   "outputs": [
    {
     "name": "stderr",
     "output_type": "stream",
     "text": [
      "C:\\Users\\Lenovo\\AppData\\Local\\Temp\\ipykernel_21880\\367938711.py:9: DeprecationWarning: DataFrameGroupBy.apply operated on the grouping columns. This behavior is deprecated, and in a future version of pandas the grouping columns will be excluded from the operation. Either pass `include_groups=False` to exclude the groupings or explicitly select the grouping columns after groupby to silence this warning.\n",
      "  df2 = df1.groupby(['Division', 'Gender']).apply(sample_group).reset_index(drop=True)\n"
     ]
    },
    {
     "data": {
      "text/html": [
       "<div>\n",
       "<style scoped>\n",
       "    .dataframe tbody tr th:only-of-type {\n",
       "        vertical-align: middle;\n",
       "    }\n",
       "\n",
       "    .dataframe tbody tr th {\n",
       "        vertical-align: top;\n",
       "    }\n",
       "\n",
       "    .dataframe thead th {\n",
       "        text-align: right;\n",
       "    }\n",
       "</style>\n",
       "<table border=\"1\" class=\"dataframe\">\n",
       "  <thead>\n",
       "    <tr style=\"text-align: right;\">\n",
       "      <th></th>\n",
       "      <th>Domain</th>\n",
       "      <th>Department</th>\n",
       "      <th>Department_Name</th>\n",
       "      <th>Division</th>\n",
       "      <th>Gender</th>\n",
       "      <th>Base_Salary</th>\n",
       "      <th>Overtime_Pay</th>\n",
       "      <th>Longevity_Pay</th>\n",
       "      <th>Total_Salary</th>\n",
       "    </tr>\n",
       "  </thead>\n",
       "  <tbody>\n",
       "    <tr>\n",
       "      <th>0</th>\n",
       "      <td>Public Safety</td>\n",
       "      <td>ABS</td>\n",
       "      <td>Alcohol Beverage Services</td>\n",
       "      <td>ABS 85 Administrative Services</td>\n",
       "      <td>F</td>\n",
       "      <td>82808.2800</td>\n",
       "      <td>11870.82</td>\n",
       "      <td>0.00</td>\n",
       "      <td>94679.1000</td>\n",
       "    </tr>\n",
       "    <tr>\n",
       "      <th>1</th>\n",
       "      <td>Public Safety</td>\n",
       "      <td>ABS</td>\n",
       "      <td>Alcohol Beverage Services</td>\n",
       "      <td>ABS 85 Administrative Services</td>\n",
       "      <td>F</td>\n",
       "      <td>89432.6940</td>\n",
       "      <td>0.00</td>\n",
       "      <td>2490.00</td>\n",
       "      <td>91922.6940</td>\n",
       "    </tr>\n",
       "    <tr>\n",
       "      <th>2</th>\n",
       "      <td>Public Safety</td>\n",
       "      <td>ABS</td>\n",
       "      <td>Alcohol Beverage Services</td>\n",
       "      <td>ABS 85 Administrative Services</td>\n",
       "      <td>F</td>\n",
       "      <td>110572.1550</td>\n",
       "      <td>0.00</td>\n",
       "      <td>0.00</td>\n",
       "      <td>110572.1550</td>\n",
       "    </tr>\n",
       "    <tr>\n",
       "      <th>3</th>\n",
       "      <td>Public Safety</td>\n",
       "      <td>ABS</td>\n",
       "      <td>Alcohol Beverage Services</td>\n",
       "      <td>ABS 85 Administrative Services</td>\n",
       "      <td>M</td>\n",
       "      <td>63733.0000</td>\n",
       "      <td>1363.23</td>\n",
       "      <td>0.00</td>\n",
       "      <td>65096.2300</td>\n",
       "    </tr>\n",
       "    <tr>\n",
       "      <th>4</th>\n",
       "      <td>Public Safety</td>\n",
       "      <td>ABS</td>\n",
       "      <td>Alcohol Beverage Services</td>\n",
       "      <td>ABS 85 Administrative Services</td>\n",
       "      <td>M</td>\n",
       "      <td>93986.0000</td>\n",
       "      <td>1187.06</td>\n",
       "      <td>2452.94</td>\n",
       "      <td>97626.0000</td>\n",
       "    </tr>\n",
       "    <tr>\n",
       "      <th>...</th>\n",
       "      <td>...</td>\n",
       "      <td>...</td>\n",
       "      <td>...</td>\n",
       "      <td>...</td>\n",
       "      <td>...</td>\n",
       "      <td>...</td>\n",
       "      <td>...</td>\n",
       "      <td>...</td>\n",
       "      <td>...</td>\n",
       "    </tr>\n",
       "    <tr>\n",
       "      <th>319</th>\n",
       "      <td>Community Services</td>\n",
       "      <td>REC</td>\n",
       "      <td>Department of Recreation</td>\n",
       "      <td>REC 72 Youth Development Youth Services</td>\n",
       "      <td>F</td>\n",
       "      <td>82209.1853</td>\n",
       "      <td>0.00</td>\n",
       "      <td>0.00</td>\n",
       "      <td>82209.1853</td>\n",
       "    </tr>\n",
       "    <tr>\n",
       "      <th>320</th>\n",
       "      <td>Community Services</td>\n",
       "      <td>REC</td>\n",
       "      <td>Department of Recreation</td>\n",
       "      <td>REC 72 Youth Development Youth Services</td>\n",
       "      <td>F</td>\n",
       "      <td>107367.0000</td>\n",
       "      <td>0.00</td>\n",
       "      <td>4580.14</td>\n",
       "      <td>111947.1400</td>\n",
       "    </tr>\n",
       "    <tr>\n",
       "      <th>321</th>\n",
       "      <td>Community Services</td>\n",
       "      <td>REC</td>\n",
       "      <td>Department of Recreation</td>\n",
       "      <td>REC 72 Youth Development Youth Services</td>\n",
       "      <td>M</td>\n",
       "      <td>60000.0000</td>\n",
       "      <td>0.00</td>\n",
       "      <td>0.00</td>\n",
       "      <td>60000.0000</td>\n",
       "    </tr>\n",
       "    <tr>\n",
       "      <th>322</th>\n",
       "      <td>Community Services</td>\n",
       "      <td>REC</td>\n",
       "      <td>Department of Recreation</td>\n",
       "      <td>REC 72 Youth Development Youth Services</td>\n",
       "      <td>M</td>\n",
       "      <td>67909.9450</td>\n",
       "      <td>0.00</td>\n",
       "      <td>0.00</td>\n",
       "      <td>67909.9450</td>\n",
       "    </tr>\n",
       "    <tr>\n",
       "      <th>323</th>\n",
       "      <td>Community Services</td>\n",
       "      <td>REC</td>\n",
       "      <td>Department of Recreation</td>\n",
       "      <td>REC 72 Youth Development Youth Services</td>\n",
       "      <td>M</td>\n",
       "      <td>107367.0000</td>\n",
       "      <td>0.00</td>\n",
       "      <td>1744.73</td>\n",
       "      <td>109111.7300</td>\n",
       "    </tr>\n",
       "  </tbody>\n",
       "</table>\n",
       "<p>324 rows × 9 columns</p>\n",
       "</div>"
      ],
      "text/plain": [
       "                 Domain Department            Department_Name  \\\n",
       "0         Public Safety        ABS  Alcohol Beverage Services   \n",
       "1         Public Safety        ABS  Alcohol Beverage Services   \n",
       "2         Public Safety        ABS  Alcohol Beverage Services   \n",
       "3         Public Safety        ABS  Alcohol Beverage Services   \n",
       "4         Public Safety        ABS  Alcohol Beverage Services   \n",
       "..                  ...        ...                        ...   \n",
       "319  Community Services        REC   Department of Recreation   \n",
       "320  Community Services        REC   Department of Recreation   \n",
       "321  Community Services        REC   Department of Recreation   \n",
       "322  Community Services        REC   Department of Recreation   \n",
       "323  Community Services        REC   Department of Recreation   \n",
       "\n",
       "                                    Division Gender  Base_Salary  \\\n",
       "0             ABS 85 Administrative Services      F   82808.2800   \n",
       "1             ABS 85 Administrative Services      F   89432.6940   \n",
       "2             ABS 85 Administrative Services      F  110572.1550   \n",
       "3             ABS 85 Administrative Services      M   63733.0000   \n",
       "4             ABS 85 Administrative Services      M   93986.0000   \n",
       "..                                       ...    ...          ...   \n",
       "319  REC 72 Youth Development Youth Services      F   82209.1853   \n",
       "320  REC 72 Youth Development Youth Services      F  107367.0000   \n",
       "321  REC 72 Youth Development Youth Services      M   60000.0000   \n",
       "322  REC 72 Youth Development Youth Services      M   67909.9450   \n",
       "323  REC 72 Youth Development Youth Services      M  107367.0000   \n",
       "\n",
       "     Overtime_Pay  Longevity_Pay  Total_Salary  \n",
       "0        11870.82           0.00    94679.1000  \n",
       "1            0.00        2490.00    91922.6940  \n",
       "2            0.00           0.00   110572.1550  \n",
       "3         1363.23           0.00    65096.2300  \n",
       "4         1187.06        2452.94    97626.0000  \n",
       "..            ...            ...           ...  \n",
       "319          0.00           0.00    82209.1853  \n",
       "320          0.00        4580.14   111947.1400  \n",
       "321          0.00           0.00    60000.0000  \n",
       "322          0.00           0.00    67909.9450  \n",
       "323          0.00        1744.73   109111.7300  \n",
       "\n",
       "[324 rows x 9 columns]"
      ]
     },
     "execution_count": 40,
     "metadata": {},
     "output_type": "execute_result"
    }
   ],
   "source": [
    "# sample 3 males and 3 females from each division\n",
    "\n",
    "def sample_group(group):\n",
    "    if len(group) <= 3:\n",
    "        return group\n",
    "    else:\n",
    "        return group.sample(n=3, random_state=19260817)\n",
    "\n",
    "df2 = df1.groupby(['Division', 'Gender']).apply(sample_group).reset_index(drop=True)\n",
    "df2"
   ]
  },
  {
   "cell_type": "code",
   "execution_count": 41,
   "id": "0b460c7f-0df8-4857-9acc-0cc4b95f7fd3",
   "metadata": {
    "tags": []
   },
   "outputs": [],
   "source": [
    "for key in result:\n",
    "    old_name = result[key]\n",
    "    new_name = np.array(list(string.ascii_uppercase)[:len(old_name)])\n",
    "    mapping_dict = dict(zip(old_name, new_name))\n",
    "    df2['Department'] = df2['Department'].map(mapping_dict).fillna(df2['Department'])"
   ]
  },
  {
   "cell_type": "code",
   "execution_count": 42,
   "id": "b2bb09d6-9408-4d5e-b6f7-d56c5e46d3e2",
   "metadata": {
    "tags": []
   },
   "outputs": [],
   "source": [
    "for key in result1:\n",
    "    old_name = result1[key]\n",
    "    new_name = np.array(list(string.ascii_uppercase)[:len(old_name)])\n",
    "    mapping_dict = dict(zip(old_name, new_name))\n",
    "    df2['Division'] = df2['Division'].map(mapping_dict).fillna(df2['Division'])"
   ]
  },
  {
   "cell_type": "code",
   "execution_count": 43,
   "id": "638c674f-fdf5-4b82-8aaf-2de726fd95ef",
   "metadata": {
    "tags": []
   },
   "outputs": [
    {
     "data": {
      "text/plain": [
       "Domain                   Department  Division\n",
       "Administrative Services  A           A           6\n",
       "                                     B           6\n",
       "                                     C           6\n",
       "                                     D           6\n",
       "                                     E           6\n",
       "                                     F           6\n",
       "                         B           A           6\n",
       "                                     B           6\n",
       "                                     C           6\n",
       "                                     D           6\n",
       "                                     E           6\n",
       "                                     F           6\n",
       "                         C           A           6\n",
       "                                     B           6\n",
       "                                     C           6\n",
       "                                     D           6\n",
       "                                     E           6\n",
       "                                     F           6\n",
       "Community Services       A           A           6\n",
       "                                     B           6\n",
       "                                     C           6\n",
       "                                     D           6\n",
       "                                     E           6\n",
       "                                     F           6\n",
       "                         B           A           6\n",
       "                                     B           6\n",
       "                                     C           6\n",
       "                                     D           6\n",
       "                                     E           6\n",
       "                                     F           6\n",
       "                         C           A           6\n",
       "                                     B           6\n",
       "                                     C           6\n",
       "                                     D           6\n",
       "                                     E           6\n",
       "                                     F           6\n",
       "Public Safety            A           A           6\n",
       "                                     B           6\n",
       "                                     C           6\n",
       "                                     D           6\n",
       "                                     E           6\n",
       "                                     F           6\n",
       "                         B           A           6\n",
       "                                     B           6\n",
       "                                     C           6\n",
       "                                     D           6\n",
       "                                     E           6\n",
       "                                     F           6\n",
       "                         C           A           6\n",
       "                                     B           6\n",
       "                                     C           6\n",
       "                                     D           6\n",
       "                                     E           6\n",
       "                                     F           6\n",
       "Name: Total_Salary, dtype: int64"
      ]
     },
     "execution_count": 43,
     "metadata": {},
     "output_type": "execute_result"
    }
   ],
   "source": [
    "df2.groupby(['Domain', 'Department', 'Division'])['Total_Salary'].count()"
   ]
  },
  {
   "cell_type": "markdown",
   "id": "3f88405a-ffc7-48df-9d12-86d4343cb932",
   "metadata": {
    "tags": []
   },
   "source": [
    "# Assumptions"
   ]
  },
  {
   "cell_type": "code",
   "execution_count": 44,
   "id": "44a7ef83-3b1a-4888-b816-b0df0dd5a9c1",
   "metadata": {
    "tags": []
   },
   "outputs": [
    {
     "name": "stdout",
     "output_type": "stream",
     "text": [
      "Levene's Test Result:\n",
      "Statistic: 0.6876018644501382\n",
      "p-value: 0.9848597142844808\n"
     ]
    }
   ],
   "source": [
    "groups = []\n",
    "for (dom,dep,div,gen), group_data in df2.groupby(['Domain', 'Department', 'Division', 'Gender']):\n",
    "    groups.append(group_data['Total_Salary'])\n",
    "levene_test_result = stats.levene(*groups)\n",
    "print(\"Levene's Test Result:\")\n",
    "print(\"Statistic:\", levene_test_result.statistic)\n",
    "print(\"p-value:\", levene_test_result.pvalue)"
   ]
  },
  {
   "cell_type": "code",
   "execution_count": 45,
   "id": "42c3bd46",
   "metadata": {},
   "outputs": [
    {
     "name": "stdout",
     "output_type": "stream",
     "text": [
      "Levene's Test Result:\n",
      "Statistic: 0.6770910340489699\n",
      "p-value: 0.9993338854391823\n"
     ]
    }
   ],
   "source": [
    "for (dom,dep,div,gen), group_data in df2.groupby(['Domain', 'Department', 'Division', 'Gender']):\n",
    "    groups.append(group_data['Base_Salary'])\n",
    "levene_test_result = stats.levene(*groups)\n",
    "print(\"Levene's Test Result:\")\n",
    "print(\"Statistic:\", levene_test_result.statistic)\n",
    "print(\"p-value:\", levene_test_result.pvalue)"
   ]
  },
  {
   "cell_type": "code",
   "execution_count": 46,
   "id": "d0fea56e",
   "metadata": {},
   "outputs": [
    {
     "name": "stdout",
     "output_type": "stream",
     "text": [
      "Levene's Test Result:\n",
      "Statistic: 1.1475316070232393\n",
      "p-value: 0.07364814521223334\n"
     ]
    }
   ],
   "source": [
    "for (dom,dep,div,gen), group_data in df2.groupby(['Domain', 'Department', 'Division', 'Gender']):\n",
    "    groups.append(group_data['Overtime_Pay'])\n",
    "levene_test_result = stats.levene(*groups)\n",
    "print(\"Levene's Test Result:\")\n",
    "print(\"Statistic:\", levene_test_result.statistic)\n",
    "print(\"p-value:\", levene_test_result.pvalue)"
   ]
  },
  {
   "cell_type": "code",
   "execution_count": 47,
   "id": "8e092f11",
   "metadata": {},
   "outputs": [
    {
     "name": "stdout",
     "output_type": "stream",
     "text": [
      "Levene's Test Result:\n",
      "Statistic: 1.3940931235514933\n",
      "p-value: 2.475258183654054e-05\n"
     ]
    }
   ],
   "source": [
    "for (dom,dep,div,gen), group_data in df2.groupby(['Domain', 'Department', 'Division', 'Gender']):\n",
    "    groups.append(group_data['Longevity_Pay'])\n",
    "levene_test_result = stats.levene(*groups)\n",
    "print(\"Levene's Test Result:\")\n",
    "print(\"Statistic:\", levene_test_result.statistic)\n",
    "print(\"p-value:\", levene_test_result.pvalue)"
   ]
  },
  {
   "cell_type": "markdown",
   "id": "afec23b8-9e67-4481-8f25-60a7459fd615",
   "metadata": {},
   "source": [
    "# ANOVA total"
   ]
  },
  {
   "cell_type": "code",
   "execution_count": 48,
   "id": "fdf3a8be-9886-45c3-9e7d-5a92d48d73fe",
   "metadata": {
    "tags": []
   },
   "outputs": [
    {
     "data": {
      "text/html": [
       "<div>\n",
       "<style scoped>\n",
       "    .dataframe tbody tr th:only-of-type {\n",
       "        vertical-align: middle;\n",
       "    }\n",
       "\n",
       "    .dataframe tbody tr th {\n",
       "        vertical-align: top;\n",
       "    }\n",
       "\n",
       "    .dataframe thead th {\n",
       "        text-align: right;\n",
       "    }\n",
       "</style>\n",
       "<table border=\"1\" class=\"dataframe\">\n",
       "  <thead>\n",
       "    <tr style=\"text-align: right;\">\n",
       "      <th></th>\n",
       "      <th>Source</th>\n",
       "      <th>SS</th>\n",
       "      <th>DF</th>\n",
       "      <th>MS</th>\n",
       "      <th>F</th>\n",
       "      <th>p-unc</th>\n",
       "      <th>np2</th>\n",
       "    </tr>\n",
       "  </thead>\n",
       "  <tbody>\n",
       "    <tr>\n",
       "      <th>0</th>\n",
       "      <td>Domain</td>\n",
       "      <td>2.057873e+10</td>\n",
       "      <td>2</td>\n",
       "      <td>1.028937e+10</td>\n",
       "      <td>10.214519</td>\n",
       "      <td>0.000050</td>\n",
       "      <td>0.060364</td>\n",
       "    </tr>\n",
       "    <tr>\n",
       "      <th>1</th>\n",
       "      <td>Gender</td>\n",
       "      <td>4.558272e+08</td>\n",
       "      <td>1</td>\n",
       "      <td>4.558272e+08</td>\n",
       "      <td>0.452511</td>\n",
       "      <td>0.501633</td>\n",
       "      <td>0.001421</td>\n",
       "    </tr>\n",
       "    <tr>\n",
       "      <th>2</th>\n",
       "      <td>Domain * Gender</td>\n",
       "      <td>2.230723e+09</td>\n",
       "      <td>2</td>\n",
       "      <td>1.115361e+09</td>\n",
       "      <td>1.107248</td>\n",
       "      <td>0.331738</td>\n",
       "      <td>0.006916</td>\n",
       "    </tr>\n",
       "    <tr>\n",
       "      <th>3</th>\n",
       "      <td>Residual</td>\n",
       "      <td>3.203302e+11</td>\n",
       "      <td>318</td>\n",
       "      <td>1.007328e+09</td>\n",
       "      <td>NaN</td>\n",
       "      <td>NaN</td>\n",
       "      <td>NaN</td>\n",
       "    </tr>\n",
       "  </tbody>\n",
       "</table>\n",
       "</div>"
      ],
      "text/plain": [
       "            Source            SS   DF            MS          F     p-unc  \\\n",
       "0           Domain  2.057873e+10    2  1.028937e+10  10.214519  0.000050   \n",
       "1           Gender  4.558272e+08    1  4.558272e+08   0.452511  0.501633   \n",
       "2  Domain * Gender  2.230723e+09    2  1.115361e+09   1.107248  0.331738   \n",
       "3         Residual  3.203302e+11  318  1.007328e+09        NaN       NaN   \n",
       "\n",
       "        np2  \n",
       "0  0.060364  \n",
       "1  0.001421  \n",
       "2  0.006916  \n",
       "3       NaN  "
      ]
     },
     "execution_count": 48,
     "metadata": {},
     "output_type": "execute_result"
    }
   ],
   "source": [
    "pg.anova(dv='Total_Salary', between=['Domain', 'Gender'], data=df2, detailed=True)"
   ]
  },
  {
   "cell_type": "code",
   "execution_count": 49,
   "id": "ebcdb176-9158-4998-afda-0643dbf46db9",
   "metadata": {
    "tags": []
   },
   "outputs": [
    {
     "data": {
      "text/html": [
       "<div>\n",
       "<style scoped>\n",
       "    .dataframe tbody tr th:only-of-type {\n",
       "        vertical-align: middle;\n",
       "    }\n",
       "\n",
       "    .dataframe tbody tr th {\n",
       "        vertical-align: top;\n",
       "    }\n",
       "\n",
       "    .dataframe thead th {\n",
       "        text-align: right;\n",
       "    }\n",
       "</style>\n",
       "<table border=\"1\" class=\"dataframe\">\n",
       "  <thead>\n",
       "    <tr style=\"text-align: right;\">\n",
       "      <th></th>\n",
       "      <th>df</th>\n",
       "      <th>sum_sq</th>\n",
       "      <th>mean_sq</th>\n",
       "      <th>F</th>\n",
       "      <th>PR(&gt;F)</th>\n",
       "    </tr>\n",
       "  </thead>\n",
       "  <tbody>\n",
       "    <tr>\n",
       "      <th>Domain</th>\n",
       "      <td>2.0</td>\n",
       "      <td>2.057873e+10</td>\n",
       "      <td>1.028937e+10</td>\n",
       "      <td>13.802462</td>\n",
       "      <td>2.285127e-06</td>\n",
       "    </tr>\n",
       "    <tr>\n",
       "      <th>Gender</th>\n",
       "      <td>1.0</td>\n",
       "      <td>4.558272e+08</td>\n",
       "      <td>4.558272e+08</td>\n",
       "      <td>0.611460</td>\n",
       "      <td>4.350949e-01</td>\n",
       "    </tr>\n",
       "    <tr>\n",
       "      <th>Domain:Department</th>\n",
       "      <td>6.0</td>\n",
       "      <td>5.214181e+10</td>\n",
       "      <td>8.690302e+09</td>\n",
       "      <td>11.657428</td>\n",
       "      <td>2.641730e-11</td>\n",
       "    </tr>\n",
       "    <tr>\n",
       "      <th>Domain:Gender</th>\n",
       "      <td>2.0</td>\n",
       "      <td>2.230723e+09</td>\n",
       "      <td>1.115361e+09</td>\n",
       "      <td>1.496179</td>\n",
       "      <td>2.262963e-01</td>\n",
       "    </tr>\n",
       "    <tr>\n",
       "      <th>Domain:Department:Division</th>\n",
       "      <td>45.0</td>\n",
       "      <td>7.517109e+10</td>\n",
       "      <td>1.670469e+09</td>\n",
       "      <td>2.240816</td>\n",
       "      <td>6.638096e-05</td>\n",
       "    </tr>\n",
       "    <tr>\n",
       "      <th>Domain:Department:Gender</th>\n",
       "      <td>6.0</td>\n",
       "      <td>4.415859e+09</td>\n",
       "      <td>7.359766e+08</td>\n",
       "      <td>0.987261</td>\n",
       "      <td>4.347563e-01</td>\n",
       "    </tr>\n",
       "    <tr>\n",
       "      <th>Domain:Department:Division:Gender</th>\n",
       "      <td>45.0</td>\n",
       "      <td>2.757917e+10</td>\n",
       "      <td>6.128705e+08</td>\n",
       "      <td>0.822123</td>\n",
       "      <td>7.806401e-01</td>\n",
       "    </tr>\n",
       "    <tr>\n",
       "      <th>Residual</th>\n",
       "      <td>216.0</td>\n",
       "      <td>1.610222e+11</td>\n",
       "      <td>7.454733e+08</td>\n",
       "      <td>NaN</td>\n",
       "      <td>NaN</td>\n",
       "    </tr>\n",
       "  </tbody>\n",
       "</table>\n",
       "</div>"
      ],
      "text/plain": [
       "                                      df        sum_sq       mean_sq  \\\n",
       "Domain                               2.0  2.057873e+10  1.028937e+10   \n",
       "Gender                               1.0  4.558272e+08  4.558272e+08   \n",
       "Domain:Department                    6.0  5.214181e+10  8.690302e+09   \n",
       "Domain:Gender                        2.0  2.230723e+09  1.115361e+09   \n",
       "Domain:Department:Division          45.0  7.517109e+10  1.670469e+09   \n",
       "Domain:Department:Gender             6.0  4.415859e+09  7.359766e+08   \n",
       "Domain:Department:Division:Gender   45.0  2.757917e+10  6.128705e+08   \n",
       "Residual                           216.0  1.610222e+11  7.454733e+08   \n",
       "\n",
       "                                           F        PR(>F)  \n",
       "Domain                             13.802462  2.285127e-06  \n",
       "Gender                              0.611460  4.350949e-01  \n",
       "Domain:Department                  11.657428  2.641730e-11  \n",
       "Domain:Gender                       1.496179  2.262963e-01  \n",
       "Domain:Department:Division          2.240816  6.638096e-05  \n",
       "Domain:Department:Gender            0.987261  4.347563e-01  \n",
       "Domain:Department:Division:Gender   0.822123  7.806401e-01  \n",
       "Residual                                 NaN           NaN  "
      ]
     },
     "execution_count": 49,
     "metadata": {},
     "output_type": "execute_result"
    }
   ],
   "source": [
    "# formula = 'Total_Salary ~ C(Domain) + C(Department, within=C(Domain)) + C(Division, within=C(Department, C(Domain)))'\n",
    "formula = 'Total_Salary ~ Domain + Domain:Department + Domain:Department:Division + Domain*Gender + Domain:Department*Gender + Domain:Department:Division*Gender'\n",
    "model = ols(formula, data=df2).fit()\n",
    "anova_table = sm.stats.anova_lm(model, typ=1)\n",
    "anova_table"
   ]
  },
  {
   "cell_type": "markdown",
   "id": "d770d84e-127b-4f9c-b6bf-cabd75d32c7c",
   "metadata": {},
   "source": [
    "## Department: random, Division: random"
   ]
  },
  {
   "cell_type": "code",
   "execution_count": 50,
   "id": "b169630f",
   "metadata": {},
   "outputs": [],
   "source": [
    "def P(anova, var_num, var_don):\n",
    "    if len(var_num) > 1 or len(var_don) > 1:\n",
    "        mse1 = anova.loc[var_num,'mean_sq']\n",
    "        mse2 = anova.loc[var_don,'mean_sq']\n",
    "        F = sum(mse1) / sum(mse2)\n",
    "        df_1 = anova.loc[var_num,'df']\n",
    "        df1 = (sum(mse1) ** 2) / sum((mse1 ** 2) / df_1)\n",
    "        df_2 = anova.loc[var_don,'df']\n",
    "        df2 = (sum(mse2) ** 2) / sum((mse2 ** 2) / df_2)\n",
    "        p = 1-stats.f.cdf(F, df1, df2)\n",
    "        return p\n",
    "    else:\n",
    "        var_n = var_num[0]\n",
    "        var_d = var_don[0]\n",
    "        F = anova.loc[var_n,'mean_sq'] / anova.loc[var_d,'mean_sq']\n",
    "        df1 = anova.loc[var_n,'df']\n",
    "        df2 = anova.loc[var_d,'df']\n",
    "        p = 1-stats.f.cdf(F, df1, df2)\n",
    "        return p\n"
   ]
  },
  {
   "cell_type": "code",
   "execution_count": 51,
   "id": "7d9be57f",
   "metadata": {},
   "outputs": [
    {
     "data": {
      "text/plain": [
       "{'p_A': 0.461234351254852,\n",
       " 'p_B': 0.36862683969721366,\n",
       " 'p_AB': 0.29325847675543204,\n",
       " 'p_C(B)': 0.0029987256356165393,\n",
       " 'p_AC(B)': 0.3233942331298929,\n",
       " 'p_D(C)': 0.3233942331298929,\n",
       " 'p_AD(C)': 0.7806400859560076}"
      ]
     },
     "execution_count": 51,
     "metadata": {},
     "output_type": "execute_result"
    }
   ],
   "source": [
    "#A: Gender, B: Domain, C: Department, D: Division.\n",
    "#Effect: fixed, fixed, random, random (recommended).\n",
    "p_values = {\n",
    "    'p_A': P(anova_table,var_num = ['Gender'],var_don = ['Domain:Department:Gender']),\n",
    "    'p_B': P(anova_table,var_num = ['Domain'],var_don = ['Domain:Department']),\n",
    "    'p_AB': P(anova_table,var_num = ['Domain:Gender'],var_don = ['Domain:Department:Gender']),\n",
    "    'p_C(B)': P(anova_table,var_num = ['Domain:Department','Domain:Department:Division:Gender'],var_don = ['Domain:Department:Gender','Domain:Department:Division']),\n",
    "    'p_AC(B)': P(anova_table,var_num = ['Domain:Department:Gender'],var_don = ['Domain:Department:Division:Gender']),\n",
    "    'p_D(C)': P(anova_table,var_num = ['Domain:Department:Gender'],var_don = ['Domain:Department:Division:Gender']),\n",
    "    'p_AD(C)': P(anova_table,var_num = ['Domain:Department:Division:Gender'],var_don = ['Residual']),\n",
    "}\n",
    "p_values"
   ]
  },
  {
   "cell_type": "code",
   "execution_count": 52,
   "id": "5fb4df63",
   "metadata": {},
   "outputs": [
    {
     "data": {
      "text/plain": [
       "0.36862683969721366"
      ]
     },
     "execution_count": 52,
     "metadata": {},
     "output_type": "execute_result"
    }
   ],
   "source": [
    "F_domain = anova_table.loc['Domain','F'] / anova_table.loc['Domain:Department','F']\n",
    "1-stats.f.cdf(F_domain, 2, 6)"
   ]
  },
  {
   "cell_type": "code",
   "execution_count": 53,
   "id": "26983157-162a-487e-94ae-c46c9a5ce663",
   "metadata": {
    "tags": []
   },
   "outputs": [
    {
     "data": {
      "text/plain": [
       "0.00038760708130125554"
      ]
     },
     "execution_count": 53,
     "metadata": {},
     "output_type": "execute_result"
    }
   ],
   "source": [
    "F_department = anova_table.loc['Domain:Department','F'] / anova_table.loc['Domain:Department:Division','F']\n",
    "1-stats.f.cdf(F_department, 6, 45)"
   ]
  },
  {
   "cell_type": "markdown",
   "id": "7c579847-1c0d-48cd-8a16-687d582890a0",
   "metadata": {},
   "source": [
    "## Department: fixed, Division: random"
   ]
  },
  {
   "cell_type": "code",
   "execution_count": 54,
   "id": "673df09b-112f-40c7-8991-bda753e2de2b",
   "metadata": {
    "tags": []
   },
   "outputs": [
    {
     "data": {
      "text/plain": [
       "0.004320553021032847"
      ]
     },
     "execution_count": 54,
     "metadata": {},
     "output_type": "execute_result"
    }
   ],
   "source": [
    "F_domain_2 = anova_table.loc['Domain','F'] / anova_table.loc['Domain:Department:Division','F']\n",
    "1-stats.f.cdf(F_domain_2, 2, 45)"
   ]
  },
  {
   "cell_type": "code",
   "execution_count": 55,
   "id": "ef23e0b0",
   "metadata": {},
   "outputs": [
    {
     "data": {
      "text/plain": [
       "{'p_A': 0.39303260034631415,\n",
       " 'p_B': 0.36862683969721366,\n",
       " 'p_AB': 0.17376708671139163,\n",
       " 'p_C(B)': 0.00038760708130125554,\n",
       " 'p_AC(B)': 0.3233942331298929,\n",
       " 'p_D(C)': 0.0005216771873221004,\n",
       " 'p_AD(C)': 0.7806400859560076}"
      ]
     },
     "execution_count": 55,
     "metadata": {},
     "output_type": "execute_result"
    }
   ],
   "source": [
    "#Effect: fixed, fixed, fixed, random.\n",
    "p_values1 = {\n",
    "    'p_A': P(anova_table,var_num = ['Gender'],var_don = ['Domain:Department:Division:Gender']),\n",
    "    'p_B': P(anova_table,var_num = ['Domain'],var_don = ['Domain:Department']),\n",
    "    'p_AB': P(anova_table,var_num = ['Domain:Gender'],var_don = ['Domain:Department:Division:Gender']),\n",
    "    'p_C(B)': P(anova_table,var_num = ['Domain:Department'],var_don = ['Domain:Department:Division']),\n",
    "    'p_AC(B)': P(anova_table,var_num = ['Domain:Department:Gender'],var_don = ['Domain:Department:Division:Gender']),\n",
    "    'p_D(C)': P(anova_table,var_num = ['Domain:Department:Division'],var_don = ['Domain:Department:Division:Gender']),\n",
    "    'p_AD(C)': P(anova_table,var_num = ['Domain:Department:Division:Gender'],var_don = ['Residual']),\n",
    "}\n",
    "p_values1\n"
   ]
  },
  {
   "cell_type": "markdown",
   "id": "c7430916-187d-492a-804b-028f95892d18",
   "metadata": {},
   "source": [
    "# ANOVA base"
   ]
  },
  {
   "cell_type": "code",
   "execution_count": 56,
   "id": "99a693cf",
   "metadata": {},
   "outputs": [
    {
     "data": {
      "text/html": [
       "<div>\n",
       "<style scoped>\n",
       "    .dataframe tbody tr th:only-of-type {\n",
       "        vertical-align: middle;\n",
       "    }\n",
       "\n",
       "    .dataframe tbody tr th {\n",
       "        vertical-align: top;\n",
       "    }\n",
       "\n",
       "    .dataframe thead th {\n",
       "        text-align: right;\n",
       "    }\n",
       "</style>\n",
       "<table border=\"1\" class=\"dataframe\">\n",
       "  <thead>\n",
       "    <tr style=\"text-align: right;\">\n",
       "      <th></th>\n",
       "      <th>Source</th>\n",
       "      <th>SS</th>\n",
       "      <th>DF</th>\n",
       "      <th>MS</th>\n",
       "      <th>F</th>\n",
       "      <th>p-unc</th>\n",
       "      <th>np2</th>\n",
       "    </tr>\n",
       "  </thead>\n",
       "  <tbody>\n",
       "    <tr>\n",
       "      <th>0</th>\n",
       "      <td>Domain</td>\n",
       "      <td>3.106562e+10</td>\n",
       "      <td>2</td>\n",
       "      <td>1.553281e+10</td>\n",
       "      <td>17.983015</td>\n",
       "      <td>3.990432e-08</td>\n",
       "      <td>0.101609</td>\n",
       "    </tr>\n",
       "    <tr>\n",
       "      <th>1</th>\n",
       "      <td>Gender</td>\n",
       "      <td>4.322969e+08</td>\n",
       "      <td>1</td>\n",
       "      <td>4.322969e+08</td>\n",
       "      <td>0.500489</td>\n",
       "      <td>4.798035e-01</td>\n",
       "      <td>0.001571</td>\n",
       "    </tr>\n",
       "    <tr>\n",
       "      <th>2</th>\n",
       "      <td>Domain * Gender</td>\n",
       "      <td>1.856072e+09</td>\n",
       "      <td>2</td>\n",
       "      <td>9.280358e+08</td>\n",
       "      <td>1.074428</td>\n",
       "      <td>3.427295e-01</td>\n",
       "      <td>0.006712</td>\n",
       "    </tr>\n",
       "    <tr>\n",
       "      <th>3</th>\n",
       "      <td>Residual</td>\n",
       "      <td>2.746722e+11</td>\n",
       "      <td>318</td>\n",
       "      <td>8.637490e+08</td>\n",
       "      <td>NaN</td>\n",
       "      <td>NaN</td>\n",
       "      <td>NaN</td>\n",
       "    </tr>\n",
       "  </tbody>\n",
       "</table>\n",
       "</div>"
      ],
      "text/plain": [
       "            Source            SS   DF            MS          F         p-unc  \\\n",
       "0           Domain  3.106562e+10    2  1.553281e+10  17.983015  3.990432e-08   \n",
       "1           Gender  4.322969e+08    1  4.322969e+08   0.500489  4.798035e-01   \n",
       "2  Domain * Gender  1.856072e+09    2  9.280358e+08   1.074428  3.427295e-01   \n",
       "3         Residual  2.746722e+11  318  8.637490e+08        NaN           NaN   \n",
       "\n",
       "        np2  \n",
       "0  0.101609  \n",
       "1  0.001571  \n",
       "2  0.006712  \n",
       "3       NaN  "
      ]
     },
     "execution_count": 56,
     "metadata": {},
     "output_type": "execute_result"
    }
   ],
   "source": [
    "pg.anova(dv='Base_Salary', between=['Domain', 'Gender'], data=df2, detailed=True)"
   ]
  },
  {
   "cell_type": "code",
   "execution_count": 57,
   "id": "a8d5fced",
   "metadata": {},
   "outputs": [
    {
     "data": {
      "text/html": [
       "<div>\n",
       "<style scoped>\n",
       "    .dataframe tbody tr th:only-of-type {\n",
       "        vertical-align: middle;\n",
       "    }\n",
       "\n",
       "    .dataframe tbody tr th {\n",
       "        vertical-align: top;\n",
       "    }\n",
       "\n",
       "    .dataframe thead th {\n",
       "        text-align: right;\n",
       "    }\n",
       "</style>\n",
       "<table border=\"1\" class=\"dataframe\">\n",
       "  <thead>\n",
       "    <tr style=\"text-align: right;\">\n",
       "      <th></th>\n",
       "      <th>df</th>\n",
       "      <th>sum_sq</th>\n",
       "      <th>mean_sq</th>\n",
       "      <th>F</th>\n",
       "      <th>PR(&gt;F)</th>\n",
       "    </tr>\n",
       "  </thead>\n",
       "  <tbody>\n",
       "    <tr>\n",
       "      <th>Domain</th>\n",
       "      <td>2.0</td>\n",
       "      <td>3.106562e+10</td>\n",
       "      <td>1.553281e+10</td>\n",
       "      <td>24.789190</td>\n",
       "      <td>2.033254e-10</td>\n",
       "    </tr>\n",
       "    <tr>\n",
       "      <th>Gender</th>\n",
       "      <td>1.0</td>\n",
       "      <td>4.322969e+08</td>\n",
       "      <td>4.322969e+08</td>\n",
       "      <td>0.689913</td>\n",
       "      <td>4.071111e-01</td>\n",
       "    </tr>\n",
       "    <tr>\n",
       "      <th>Domain:Department</th>\n",
       "      <td>6.0</td>\n",
       "      <td>3.872419e+10</td>\n",
       "      <td>6.454031e+09</td>\n",
       "      <td>10.300144</td>\n",
       "      <td>4.987857e-10</td>\n",
       "    </tr>\n",
       "    <tr>\n",
       "      <th>Domain:Gender</th>\n",
       "      <td>2.0</td>\n",
       "      <td>1.856072e+09</td>\n",
       "      <td>9.280358e+08</td>\n",
       "      <td>1.481075</td>\n",
       "      <td>2.296931e-01</td>\n",
       "    </tr>\n",
       "    <tr>\n",
       "      <th>Domain:Department:Division</th>\n",
       "      <td>45.0</td>\n",
       "      <td>7.226099e+10</td>\n",
       "      <td>1.605800e+09</td>\n",
       "      <td>2.562735</td>\n",
       "      <td>3.362136e-06</td>\n",
       "    </tr>\n",
       "    <tr>\n",
       "      <th>Domain:Department:Gender</th>\n",
       "      <td>6.0</td>\n",
       "      <td>3.439112e+09</td>\n",
       "      <td>5.731853e+08</td>\n",
       "      <td>0.914760</td>\n",
       "      <td>4.851003e-01</td>\n",
       "    </tr>\n",
       "    <tr>\n",
       "      <th>Domain:Department:Division:Gender</th>\n",
       "      <td>45.0</td>\n",
       "      <td>2.490313e+10</td>\n",
       "      <td>5.534029e+08</td>\n",
       "      <td>0.883189</td>\n",
       "      <td>6.832163e-01</td>\n",
       "    </tr>\n",
       "    <tr>\n",
       "      <th>Residual</th>\n",
       "      <td>216.0</td>\n",
       "      <td>1.353448e+11</td>\n",
       "      <td>6.265962e+08</td>\n",
       "      <td>NaN</td>\n",
       "      <td>NaN</td>\n",
       "    </tr>\n",
       "  </tbody>\n",
       "</table>\n",
       "</div>"
      ],
      "text/plain": [
       "                                      df        sum_sq       mean_sq  \\\n",
       "Domain                               2.0  3.106562e+10  1.553281e+10   \n",
       "Gender                               1.0  4.322969e+08  4.322969e+08   \n",
       "Domain:Department                    6.0  3.872419e+10  6.454031e+09   \n",
       "Domain:Gender                        2.0  1.856072e+09  9.280358e+08   \n",
       "Domain:Department:Division          45.0  7.226099e+10  1.605800e+09   \n",
       "Domain:Department:Gender             6.0  3.439112e+09  5.731853e+08   \n",
       "Domain:Department:Division:Gender   45.0  2.490313e+10  5.534029e+08   \n",
       "Residual                           216.0  1.353448e+11  6.265962e+08   \n",
       "\n",
       "                                           F        PR(>F)  \n",
       "Domain                             24.789190  2.033254e-10  \n",
       "Gender                              0.689913  4.071111e-01  \n",
       "Domain:Department                  10.300144  4.987857e-10  \n",
       "Domain:Gender                       1.481075  2.296931e-01  \n",
       "Domain:Department:Division          2.562735  3.362136e-06  \n",
       "Domain:Department:Gender            0.914760  4.851003e-01  \n",
       "Domain:Department:Division:Gender   0.883189  6.832163e-01  \n",
       "Residual                                 NaN           NaN  "
      ]
     },
     "execution_count": 57,
     "metadata": {},
     "output_type": "execute_result"
    }
   ],
   "source": [
    "# formula = 'Base_Salary ~ C(Domain) + C(Department, within=C(Domain)) + C(Division, within=C(Department, C(Domain)))'\n",
    "formula = 'Base_Salary ~ Domain + Domain:Department + Domain:Department:Division + Domain*Gender + Domain:Department*Gender + Domain:Department:Division*Gender'\n",
    "model = ols(formula, data=df2).fit()\n",
    "anova_table_base = sm.stats.anova_lm(model, typ=1)\n",
    "anova_table_base"
   ]
  },
  {
   "cell_type": "code",
   "execution_count": 58,
   "id": "6463efae",
   "metadata": {},
   "outputs": [
    {
     "data": {
      "text/plain": [
       "{'p_A': 0.4185267866142268,\n",
       " 'p_B': 0.17083263266751336,\n",
       " 'p_AB': 0.2739655065526292,\n",
       " 'p_C(B)': 0.007836930004293863,\n",
       " 'p_AC(B)': 0.41501243962007495,\n",
       " 'p_D(C)': 0.41501243962007495,\n",
       " 'p_AD(C)': 0.6832162815462994}"
      ]
     },
     "execution_count": 58,
     "metadata": {},
     "output_type": "execute_result"
    }
   ],
   "source": [
    "#A: Gender, B: Domain, C: Department, D: Division.\n",
    "#Effect: fixed, fixed, random, random (recommended).\n",
    "p_values10 = {\n",
    "    'p_A': P(anova_table_base,var_num = ['Gender'],var_don = ['Domain:Department:Gender']),\n",
    "    'p_B': P(anova_table_base,var_num = ['Domain'],var_don = ['Domain:Department']),\n",
    "    'p_AB': P(anova_table_base,var_num = ['Domain:Gender'],var_don = ['Domain:Department:Gender']),\n",
    "    'p_C(B)': P(anova_table_base,var_num = ['Domain:Department','Domain:Department:Division:Gender'],var_don = ['Domain:Department:Gender','Domain:Department:Division']),\n",
    "    'p_AC(B)': P(anova_table_base,var_num = ['Domain:Department:Gender'],var_don = ['Domain:Department:Division:Gender']),\n",
    "    'p_D(C)': P(anova_table_base,var_num = ['Domain:Department:Gender'],var_don = ['Domain:Department:Division:Gender']),\n",
    "    'p_AD(C)': P(anova_table_base,var_num = ['Domain:Department:Division:Gender'],var_don = ['Residual']),\n",
    "}\n",
    "p_values10"
   ]
  },
  {
   "cell_type": "code",
   "execution_count": 59,
   "id": "9e531639",
   "metadata": {},
   "outputs": [
    {
     "data": {
      "text/plain": [
       "{'p_A': 0.3814840295522467,\n",
       " 'p_B': 0.17083263266751336,\n",
       " 'p_AB': 0.19841188680024413,\n",
       " 'p_C(B)': 0.0026304941614815336,\n",
       " 'p_AC(B)': 0.41501243962007495,\n",
       " 'p_D(C)': 0.0002557056031141647,\n",
       " 'p_AD(C)': 0.6832162815462994}"
      ]
     },
     "execution_count": 59,
     "metadata": {},
     "output_type": "execute_result"
    }
   ],
   "source": [
    "#Effect: fixed, fixed, fixed, random.\n",
    "p_values11 = {\n",
    "    'p_A': P(anova_table_base,var_num = ['Gender'],var_don = ['Domain:Department:Division:Gender']),\n",
    "    'p_B': P(anova_table_base,var_num = ['Domain'],var_don = ['Domain:Department']),\n",
    "    'p_AB': P(anova_table_base,var_num = ['Domain:Gender'],var_don = ['Domain:Department:Division:Gender']),\n",
    "    'p_C(B)': P(anova_table_base,var_num = ['Domain:Department'],var_don = ['Domain:Department:Division']),\n",
    "    'p_AC(B)': P(anova_table_base,var_num = ['Domain:Department:Gender'],var_don = ['Domain:Department:Division:Gender']),\n",
    "    'p_D(C)': P(anova_table_base,var_num = ['Domain:Department:Division'],var_don = ['Domain:Department:Division:Gender']),\n",
    "    'p_AD(C)': P(anova_table_base,var_num = ['Domain:Department:Division:Gender'],var_don = ['Residual']),\n",
    "}\n",
    "p_values11\n"
   ]
  },
  {
   "cell_type": "markdown",
   "id": "7eb1e8ba-f6cb-4b4b-9f98-61075611ec06",
   "metadata": {},
   "source": [
    "# ANOVA Overtime"
   ]
  },
  {
   "cell_type": "code",
   "execution_count": 60,
   "id": "f7ea1320",
   "metadata": {},
   "outputs": [
    {
     "data": {
      "text/html": [
       "<div>\n",
       "<style scoped>\n",
       "    .dataframe tbody tr th:only-of-type {\n",
       "        vertical-align: middle;\n",
       "    }\n",
       "\n",
       "    .dataframe tbody tr th {\n",
       "        vertical-align: top;\n",
       "    }\n",
       "\n",
       "    .dataframe thead th {\n",
       "        text-align: right;\n",
       "    }\n",
       "</style>\n",
       "<table border=\"1\" class=\"dataframe\">\n",
       "  <thead>\n",
       "    <tr style=\"text-align: right;\">\n",
       "      <th></th>\n",
       "      <th>Source</th>\n",
       "      <th>SS</th>\n",
       "      <th>DF</th>\n",
       "      <th>MS</th>\n",
       "      <th>F</th>\n",
       "      <th>p-unc</th>\n",
       "      <th>np2</th>\n",
       "    </tr>\n",
       "  </thead>\n",
       "  <tbody>\n",
       "    <tr>\n",
       "      <th>0</th>\n",
       "      <td>Domain</td>\n",
       "      <td>2.296670e+09</td>\n",
       "      <td>2</td>\n",
       "      <td>1.148335e+09</td>\n",
       "      <td>10.339373</td>\n",
       "      <td>0.000045</td>\n",
       "      <td>0.061057</td>\n",
       "    </tr>\n",
       "    <tr>\n",
       "      <th>1</th>\n",
       "      <td>Gender</td>\n",
       "      <td>9.074611e+06</td>\n",
       "      <td>1</td>\n",
       "      <td>9.074611e+06</td>\n",
       "      <td>0.081706</td>\n",
       "      <td>0.775185</td>\n",
       "      <td>0.000257</td>\n",
       "    </tr>\n",
       "    <tr>\n",
       "      <th>2</th>\n",
       "      <td>Domain * Gender</td>\n",
       "      <td>4.071961e+07</td>\n",
       "      <td>2</td>\n",
       "      <td>2.035980e+07</td>\n",
       "      <td>0.183316</td>\n",
       "      <td>0.832593</td>\n",
       "      <td>0.001152</td>\n",
       "    </tr>\n",
       "    <tr>\n",
       "      <th>3</th>\n",
       "      <td>Residual</td>\n",
       "      <td>3.531844e+10</td>\n",
       "      <td>318</td>\n",
       "      <td>1.110643e+08</td>\n",
       "      <td>NaN</td>\n",
       "      <td>NaN</td>\n",
       "      <td>NaN</td>\n",
       "    </tr>\n",
       "  </tbody>\n",
       "</table>\n",
       "</div>"
      ],
      "text/plain": [
       "            Source            SS   DF            MS          F     p-unc  \\\n",
       "0           Domain  2.296670e+09    2  1.148335e+09  10.339373  0.000045   \n",
       "1           Gender  9.074611e+06    1  9.074611e+06   0.081706  0.775185   \n",
       "2  Domain * Gender  4.071961e+07    2  2.035980e+07   0.183316  0.832593   \n",
       "3         Residual  3.531844e+10  318  1.110643e+08        NaN       NaN   \n",
       "\n",
       "        np2  \n",
       "0  0.061057  \n",
       "1  0.000257  \n",
       "2  0.001152  \n",
       "3       NaN  "
      ]
     },
     "execution_count": 60,
     "metadata": {},
     "output_type": "execute_result"
    }
   ],
   "source": [
    "pg.anova(dv='Overtime_Pay', between=['Domain', 'Gender'], data=df2, detailed=True)"
   ]
  },
  {
   "cell_type": "code",
   "execution_count": 61,
   "id": "a50dc338",
   "metadata": {},
   "outputs": [
    {
     "data": {
      "text/html": [
       "<div>\n",
       "<style scoped>\n",
       "    .dataframe tbody tr th:only-of-type {\n",
       "        vertical-align: middle;\n",
       "    }\n",
       "\n",
       "    .dataframe tbody tr th {\n",
       "        vertical-align: top;\n",
       "    }\n",
       "\n",
       "    .dataframe thead th {\n",
       "        text-align: right;\n",
       "    }\n",
       "</style>\n",
       "<table border=\"1\" class=\"dataframe\">\n",
       "  <thead>\n",
       "    <tr style=\"text-align: right;\">\n",
       "      <th></th>\n",
       "      <th>df</th>\n",
       "      <th>sum_sq</th>\n",
       "      <th>mean_sq</th>\n",
       "      <th>F</th>\n",
       "      <th>PR(&gt;F)</th>\n",
       "    </tr>\n",
       "  </thead>\n",
       "  <tbody>\n",
       "    <tr>\n",
       "      <th>Domain</th>\n",
       "      <td>2.0</td>\n",
       "      <td>2.296670e+09</td>\n",
       "      <td>1.148335e+09</td>\n",
       "      <td>15.377348</td>\n",
       "      <td>5.706095e-07</td>\n",
       "    </tr>\n",
       "    <tr>\n",
       "      <th>Gender</th>\n",
       "      <td>1.0</td>\n",
       "      <td>9.074611e+06</td>\n",
       "      <td>9.074611e+06</td>\n",
       "      <td>0.121518</td>\n",
       "      <td>7.277333e-01</td>\n",
       "    </tr>\n",
       "    <tr>\n",
       "      <th>Domain:Department</th>\n",
       "      <td>6.0</td>\n",
       "      <td>3.435357e+09</td>\n",
       "      <td>5.725596e+08</td>\n",
       "      <td>7.667143</td>\n",
       "      <td>1.770353e-07</td>\n",
       "    </tr>\n",
       "    <tr>\n",
       "      <th>Domain:Gender</th>\n",
       "      <td>2.0</td>\n",
       "      <td>4.071961e+07</td>\n",
       "      <td>2.035980e+07</td>\n",
       "      <td>0.272638</td>\n",
       "      <td>7.616299e-01</td>\n",
       "    </tr>\n",
       "    <tr>\n",
       "      <th>Domain:Department:Division</th>\n",
       "      <td>45.0</td>\n",
       "      <td>1.425535e+10</td>\n",
       "      <td>3.167855e+08</td>\n",
       "      <td>4.242073</td>\n",
       "      <td>3.910091e-13</td>\n",
       "    </tr>\n",
       "    <tr>\n",
       "      <th>Domain:Department:Gender</th>\n",
       "      <td>6.0</td>\n",
       "      <td>3.116733e+08</td>\n",
       "      <td>5.194554e+07</td>\n",
       "      <td>0.695603</td>\n",
       "      <td>6.534258e-01</td>\n",
       "    </tr>\n",
       "    <tr>\n",
       "      <th>Domain:Department:Division:Gender</th>\n",
       "      <td>45.0</td>\n",
       "      <td>1.185817e+09</td>\n",
       "      <td>2.635149e+07</td>\n",
       "      <td>0.352873</td>\n",
       "      <td>9.999591e-01</td>\n",
       "    </tr>\n",
       "    <tr>\n",
       "      <th>Residual</th>\n",
       "      <td>216.0</td>\n",
       "      <td>1.613024e+10</td>\n",
       "      <td>7.467704e+07</td>\n",
       "      <td>NaN</td>\n",
       "      <td>NaN</td>\n",
       "    </tr>\n",
       "  </tbody>\n",
       "</table>\n",
       "</div>"
      ],
      "text/plain": [
       "                                      df        sum_sq       mean_sq  \\\n",
       "Domain                               2.0  2.296670e+09  1.148335e+09   \n",
       "Gender                               1.0  9.074611e+06  9.074611e+06   \n",
       "Domain:Department                    6.0  3.435357e+09  5.725596e+08   \n",
       "Domain:Gender                        2.0  4.071961e+07  2.035980e+07   \n",
       "Domain:Department:Division          45.0  1.425535e+10  3.167855e+08   \n",
       "Domain:Department:Gender             6.0  3.116733e+08  5.194554e+07   \n",
       "Domain:Department:Division:Gender   45.0  1.185817e+09  2.635149e+07   \n",
       "Residual                           216.0  1.613024e+10  7.467704e+07   \n",
       "\n",
       "                                           F        PR(>F)  \n",
       "Domain                             15.377348  5.706095e-07  \n",
       "Gender                              0.121518  7.277333e-01  \n",
       "Domain:Department                   7.667143  1.770353e-07  \n",
       "Domain:Gender                       0.272638  7.616299e-01  \n",
       "Domain:Department:Division          4.242073  3.910091e-13  \n",
       "Domain:Department:Gender            0.695603  6.534258e-01  \n",
       "Domain:Department:Division:Gender   0.352873  9.999591e-01  \n",
       "Residual                                 NaN           NaN  "
      ]
     },
     "execution_count": 61,
     "metadata": {},
     "output_type": "execute_result"
    }
   ],
   "source": [
    "# formula = 'Overtime_Pay ~ C(Domain) + C(Department, within=C(Domain)) + C(Division, within=C(Department, C(Domain)))'\n",
    "formula = 'Overtime_Pay ~ Domain + Domain:Department + Domain:Department:Division + Domain*Gender + Domain:Department*Gender + Domain:Department:Division*Gender'\n",
    "model = ols(formula, data=df2).fit()\n",
    "anova_table_Overtime = sm.stats.anova_lm(model, typ=1)\n",
    "anova_table_Overtime"
   ]
  },
  {
   "cell_type": "code",
   "execution_count": 62,
   "id": "03659185",
   "metadata": {},
   "outputs": [
    {
     "data": {
      "text/plain": [
       "{'p_A': 0.6905185574383159,\n",
       " 'p_B': 0.21527374218116857,\n",
       " 'p_AB': 0.691858540385901,\n",
       " 'p_C(B)': 0.1540679719716449,\n",
       " 'p_AC(B)': 0.08986628170165534,\n",
       " 'p_D(C)': 0.08986628170165534,\n",
       " 'p_AD(C)': 0.9999591446206606}"
      ]
     },
     "execution_count": 62,
     "metadata": {},
     "output_type": "execute_result"
    }
   ],
   "source": [
    "#A: Gender, B: Domain, C: Department, D: Division.\n",
    "#Effect: fixed, fixed, random, random (recommended).\n",
    "p_values10 = {\n",
    "    'p_A': P(anova_table_Overtime,var_num = ['Gender'],var_don = ['Domain:Department:Gender']),\n",
    "    'p_B': P(anova_table_Overtime,var_num = ['Domain'],var_don = ['Domain:Department']),\n",
    "    'p_AB': P(anova_table_Overtime,var_num = ['Domain:Gender'],var_don = ['Domain:Department:Gender']),\n",
    "    'p_C(B)': P(anova_table_Overtime,var_num = ['Domain:Department','Domain:Department:Division:Gender'],var_don = ['Domain:Department:Gender','Domain:Department:Division']),\n",
    "    'p_AC(B)': P(anova_table_Overtime,var_num = ['Domain:Department:Gender'],var_don = ['Domain:Department:Division:Gender']),\n",
    "    'p_D(C)': P(anova_table_Overtime,var_num = ['Domain:Department:Gender'],var_don = ['Domain:Department:Division:Gender']),\n",
    "    'p_AD(C)': P(anova_table_Overtime,var_num = ['Domain:Department:Division:Gender'],var_don = ['Residual']),\n",
    "}\n",
    "p_values10"
   ]
  },
  {
   "cell_type": "code",
   "execution_count": 63,
   "id": "698e54d1",
   "metadata": {
    "tags": []
   },
   "outputs": [
    {
     "data": {
      "text/plain": [
       "{'p_A': 0.5602514025372455,\n",
       " 'p_B': 0.21527374218116857,\n",
       " 'p_AB': 0.4678278468566668,\n",
       " 'p_C(B)': 0.11913136451434159,\n",
       " 'p_AC(B)': 0.08986628170165534,\n",
       " 'p_D(C)': 3.3639757646142243e-14,\n",
       " 'p_AD(C)': 0.9999591446206606}"
      ]
     },
     "execution_count": 63,
     "metadata": {},
     "output_type": "execute_result"
    }
   ],
   "source": [
    "#Effect: fixed, fixed, fixed, random.\n",
    "p_values11 = {\n",
    "    'p_A': P(anova_table_Overtime,var_num = ['Gender'],var_don = ['Domain:Department:Division:Gender']),\n",
    "    'p_B': P(anova_table_Overtime,var_num = ['Domain'],var_don = ['Domain:Department']),\n",
    "    'p_AB': P(anova_table_Overtime,var_num = ['Domain:Gender'],var_don = ['Domain:Department:Division:Gender']),\n",
    "    'p_C(B)': P(anova_table_Overtime,var_num = ['Domain:Department'],var_don = ['Domain:Department:Division']),\n",
    "    'p_AC(B)': P(anova_table_Overtime,var_num = ['Domain:Department:Gender'],var_don = ['Domain:Department:Division:Gender']),\n",
    "    'p_D(C)': P(anova_table_Overtime,var_num = ['Domain:Department:Division'],var_don = ['Domain:Department:Division:Gender']),\n",
    "    'p_AD(C)': P(anova_table_Overtime,var_num = ['Domain:Department:Division:Gender'],var_don = ['Residual']),\n",
    "}\n",
    "p_values11\n"
   ]
  },
  {
   "cell_type": "code",
   "execution_count": 86,
   "id": "91c141b4-2e15-435b-b52d-e79270d4044e",
   "metadata": {
    "tags": []
   },
   "outputs": [
    {
     "data": {
      "text/plain": [
       "2"
      ]
     },
     "execution_count": 86,
     "metadata": {},
     "output_type": "execute_result"
    }
   ],
   "source": [
    "1+1"
   ]
  },
  {
   "cell_type": "code",
   "execution_count": 64,
   "id": "28cfd9e7-433d-4525-8f73-002c7bc4ac82",
   "metadata": {
    "tags": []
   },
   "outputs": [
    {
     "data": {
      "text/plain": [
       "(Longevity_Pay\n",
       " False    105345.0\n",
       " True      89250.0\n",
       " Name: Base_Salary, dtype: float64,\n",
       " Longevity_Pay\n",
       " False    101496.562898\n",
       " True      92596.099074\n",
       " Name: Base_Salary, dtype: float64)"
      ]
     },
     "execution_count": 64,
     "metadata": {},
     "output_type": "execute_result"
    }
   ],
   "source": [
    "data17 = df2.copy()\n",
    "data17.groupby(data17['Longevity_Pay'] == 0)['Base_Salary'].median(), data17.groupby(data17['Longevity_Pay'] == 0)['Base_Salary'].mean()"
   ]
  },
  {
   "cell_type": "code",
   "execution_count": 67,
   "id": "b3f03935-5235-4e7f-9757-d7921e73bac1",
   "metadata": {
    "tags": []
   },
   "outputs": [
    {
     "name": "stdout",
     "output_type": "stream",
     "text": [
      "world\n"
     ]
    }
   ],
   "source": [
    "print('world')\n"
   ]
  },
  {
   "cell_type": "code",
   "execution_count": 68,
   "id": "6797bf49-0f38-49d1-a6cb-21162d7521f9",
   "metadata": {
    "tags": []
   },
   "outputs": [
    {
     "name": "stdout",
     "output_type": "stream",
     "text": [
      "hello\n"
     ]
    }
   ],
   "source": [
    "print('hello')"
   ]
  },
  {
   "cell_type": "code",
   "execution_count": null,
   "id": "5328ddd5-19a7-4cef-aa51-b32c5f8bddf1",
   "metadata": {},
   "outputs": [],
   "source": []
  }
 ],
 "metadata": {
  "kernelspec": {
   "display_name": "Python 3 (ipykernel)",
   "language": "python",
   "name": "python3"
  },
  "language_info": {
   "codemirror_mode": {
    "name": "ipython",
    "version": 3
   },
   "file_extension": ".py",
   "mimetype": "text/x-python",
   "name": "python",
   "nbconvert_exporter": "python",
   "pygments_lexer": "ipython3",
   "version": "3.11.4"
  }
 },
 "nbformat": 4,
 "nbformat_minor": 5
}
